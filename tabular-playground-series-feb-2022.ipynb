{
 "cells": [
  {
   "cell_type": "markdown",
   "id": "ba0cad4d-d3d6-47d4-9fc1-55bc9852c40f",
   "metadata": {},
   "source": [
    "# Tabular Playground Series - Feb 2022"
   ]
  },
  {
   "cell_type": "markdown",
   "id": "004e825b-a3a5-4f19-acda-59af26ecc47d",
   "metadata": {},
   "source": [
    "## Importación de librerías a utilizar"
   ]
  },
  {
   "cell_type": "code",
   "execution_count": 1,
   "id": "5d3017ca-15ec-4b4e-a02b-8702b534cdc0",
   "metadata": {},
   "outputs": [],
   "source": [
    "import zipfile\n",
    "import os\n",
    "import pathlib\n",
    "import pandas as pd\n",
    "import numpy as np\n",
    "import matplotlib.pyplot as plt\n",
    "import seaborn as sns"
   ]
  },
  {
   "cell_type": "markdown",
   "id": "05c33ae4-16be-44f6-aa6a-30cd4ce719e5",
   "metadata": {},
   "source": [
    "## Generación de DataFrame\n",
    "### Primero descargo la información directo desde la API de Kaggle, la descomprimo y borro el zip original"
   ]
  },
  {
   "cell_type": "code",
   "execution_count": 2,
   "id": "f79656fd-0772-417f-9a7d-db89b3ac3815",
   "metadata": {},
   "outputs": [
    {
     "name": "stdout",
     "output_type": "stream",
     "text": [
      "Collecting package metadata (current_repodata.json): ...working... done\n",
      "Solving environment: ...working... done\n",
      "\n",
      "# All requested packages already installed.\n",
      "\n",
      "\n",
      "Note: you may need to restart the kernel to use updated packages.\n"
     ]
    }
   ],
   "source": [
    "conda install -c conda-forge kaggle"
   ]
  },
  {
   "cell_type": "markdown",
   "id": "f9304f22-27f3-45ba-94fe-764596d0adcd",
   "metadata": {},
   "source": [
    "Entrar a la consola y correr $kaggle$. Esto creará la carpeta .kaggle en C:\\Users\\user\\, donde se debe copiar el arcivo token (.json) que se obtiene de la subsección API en Account dentro del usuario propio de kaggle."
   ]
  },
  {
   "cell_type": "code",
   "execution_count": 3,
   "id": "da6f180c-aa05-488d-82ec-d0556a7d1681",
   "metadata": {},
   "outputs": [
    {
     "name": "stdout",
     "output_type": "stream",
     "text": [
      "Files already exists\n"
     ]
    }
   ],
   "source": [
    "file = pathlib.Path(\"datasets/2022_02/train.csv\")\n",
    "if file.exists():\n",
    "    print('Files already exists')\n",
    "else:\n",
    "    print('Creating the file')\n",
    "    !kaggle competitions files -c tabular-playground-series-feb-2022\n",
    "    !kaggle competitions download -c tabular-playground-series-feb-2022\n",
    "    with zipfile.ZipFile(\"tabular-playground-series-feb-2022.zip\", \"r\") as zip_ref:\n",
    "        zip_ref.extractall(r\"C:\\Users\\alanp\\Data Science\\kaggle_tabular_playground\\datasets\\2022_02\")\n",
    "    os.remove(\"tabular-playground-series-feb-2022.zip\")"
   ]
  },
  {
   "cell_type": "markdown",
   "id": "07476bad-6156-4ab7-819c-e6e30c0e19b7",
   "metadata": {},
   "source": [
    "### Genero el DataFrame"
   ]
  },
  {
   "cell_type": "code",
   "execution_count": 4,
   "id": "dc2c93b7-82d9-4d1c-895a-dce9f11dc860",
   "metadata": {},
   "outputs": [],
   "source": [
    "train_df = pd.read_csv(\"datasets/2022_02/train.csv\", index_col='row_id')\n",
    "test_df = pd.read_csv(\"datasets/2022_02/test.csv\", index_col='row_id')"
   ]
  },
  {
   "cell_type": "markdown",
   "id": "d8f35f2d-07ca-4093-8ccc-736e380049e5",
   "metadata": {
    "tags": []
   },
   "source": [
    "## Chequeo rápido de estructura y datos"
   ]
  },
  {
   "cell_type": "code",
   "execution_count": 5,
   "id": "443031ca-5f21-43da-820e-1892f79d34ed",
   "metadata": {
    "tags": []
   },
   "outputs": [
    {
     "name": "stdout",
     "output_type": "stream",
     "text": [
      "(200000, 287)\n",
      "(100000, 286)\n"
     ]
    }
   ],
   "source": [
    "print(train_df.shape)\n",
    "print(test_df.shape)"
   ]
  },
  {
   "cell_type": "code",
   "execution_count": 6,
   "id": "68529043-ed24-4b05-a1b2-60b959dfd704",
   "metadata": {},
   "outputs": [
    {
     "data": {
      "text/plain": [
       "array(['Streptococcus_pyogenes', 'Salmonella_enterica',\n",
       "       'Enterococcus_hirae', 'Escherichia_coli', 'Campylobacter_jejuni',\n",
       "       'Streptococcus_pneumoniae', 'Staphylococcus_aureus',\n",
       "       'Escherichia_fergusonii', 'Bacteroides_fragilis',\n",
       "       'Klebsiella_pneumoniae'], dtype=object)"
      ]
     },
     "execution_count": 6,
     "metadata": {},
     "output_type": "execute_result"
    }
   ],
   "source": [
    "train_df['target'].unique()"
   ]
  },
  {
   "cell_type": "code",
   "execution_count": 7,
   "id": "3f302aca-960e-40ef-b49c-a3de4b3c2d6f",
   "metadata": {},
   "outputs": [
    {
     "data": {
      "text/html": [
       "<div>\n",
       "<style scoped>\n",
       "    .dataframe tbody tr th:only-of-type {\n",
       "        vertical-align: middle;\n",
       "    }\n",
       "\n",
       "    .dataframe tbody tr th {\n",
       "        vertical-align: top;\n",
       "    }\n",
       "\n",
       "    .dataframe thead th {\n",
       "        text-align: right;\n",
       "    }\n",
       "</style>\n",
       "<table border=\"1\" class=\"dataframe\">\n",
       "  <thead>\n",
       "    <tr style=\"text-align: right;\">\n",
       "      <th></th>\n",
       "      <th>A0T0G0C10</th>\n",
       "      <th>A0T0G1C9</th>\n",
       "      <th>A0T0G2C8</th>\n",
       "      <th>A0T0G3C7</th>\n",
       "      <th>A0T0G4C6</th>\n",
       "      <th>A0T0G5C5</th>\n",
       "      <th>A0T0G6C4</th>\n",
       "      <th>A0T0G7C3</th>\n",
       "      <th>A0T0G8C2</th>\n",
       "      <th>A0T0G9C1</th>\n",
       "      <th>...</th>\n",
       "      <th>A8T0G1C1</th>\n",
       "      <th>A8T0G2C0</th>\n",
       "      <th>A8T1G0C1</th>\n",
       "      <th>A8T1G1C0</th>\n",
       "      <th>A8T2G0C0</th>\n",
       "      <th>A9T0G0C1</th>\n",
       "      <th>A9T0G1C0</th>\n",
       "      <th>A9T1G0C0</th>\n",
       "      <th>A10T0G0C0</th>\n",
       "      <th>target</th>\n",
       "    </tr>\n",
       "    <tr>\n",
       "      <th>row_id</th>\n",
       "      <th></th>\n",
       "      <th></th>\n",
       "      <th></th>\n",
       "      <th></th>\n",
       "      <th></th>\n",
       "      <th></th>\n",
       "      <th></th>\n",
       "      <th></th>\n",
       "      <th></th>\n",
       "      <th></th>\n",
       "      <th></th>\n",
       "      <th></th>\n",
       "      <th></th>\n",
       "      <th></th>\n",
       "      <th></th>\n",
       "      <th></th>\n",
       "      <th></th>\n",
       "      <th></th>\n",
       "      <th></th>\n",
       "      <th></th>\n",
       "      <th></th>\n",
       "    </tr>\n",
       "  </thead>\n",
       "  <tbody>\n",
       "    <tr>\n",
       "      <th>0</th>\n",
       "      <td>-9.536743e-07</td>\n",
       "      <td>-0.000010</td>\n",
       "      <td>-0.000043</td>\n",
       "      <td>-0.000114</td>\n",
       "      <td>-0.000200</td>\n",
       "      <td>-0.000240</td>\n",
       "      <td>-0.000200</td>\n",
       "      <td>-0.000114</td>\n",
       "      <td>-0.000043</td>\n",
       "      <td>-0.000010</td>\n",
       "      <td>...</td>\n",
       "      <td>-0.000086</td>\n",
       "      <td>-0.000043</td>\n",
       "      <td>-0.000086</td>\n",
       "      <td>-0.000086</td>\n",
       "      <td>-0.000043</td>\n",
       "      <td>-0.000010</td>\n",
       "      <td>-0.000010</td>\n",
       "      <td>-0.000010</td>\n",
       "      <td>-9.536743e-07</td>\n",
       "      <td>Streptococcus_pyogenes</td>\n",
       "    </tr>\n",
       "    <tr>\n",
       "      <th>1</th>\n",
       "      <td>-9.536743e-07</td>\n",
       "      <td>-0.000010</td>\n",
       "      <td>-0.000043</td>\n",
       "      <td>0.000886</td>\n",
       "      <td>-0.000200</td>\n",
       "      <td>0.000760</td>\n",
       "      <td>-0.000200</td>\n",
       "      <td>-0.000114</td>\n",
       "      <td>-0.000043</td>\n",
       "      <td>-0.000010</td>\n",
       "      <td>...</td>\n",
       "      <td>-0.000086</td>\n",
       "      <td>-0.000043</td>\n",
       "      <td>0.000914</td>\n",
       "      <td>0.000914</td>\n",
       "      <td>-0.000043</td>\n",
       "      <td>-0.000010</td>\n",
       "      <td>-0.000010</td>\n",
       "      <td>-0.000010</td>\n",
       "      <td>-9.536743e-07</td>\n",
       "      <td>Salmonella_enterica</td>\n",
       "    </tr>\n",
       "    <tr>\n",
       "      <th>2</th>\n",
       "      <td>-9.536743e-07</td>\n",
       "      <td>-0.000002</td>\n",
       "      <td>0.000007</td>\n",
       "      <td>0.000129</td>\n",
       "      <td>0.000268</td>\n",
       "      <td>0.000270</td>\n",
       "      <td>0.000243</td>\n",
       "      <td>0.000125</td>\n",
       "      <td>0.000001</td>\n",
       "      <td>-0.000007</td>\n",
       "      <td>...</td>\n",
       "      <td>0.000084</td>\n",
       "      <td>0.000048</td>\n",
       "      <td>0.000081</td>\n",
       "      <td>0.000106</td>\n",
       "      <td>0.000072</td>\n",
       "      <td>0.000010</td>\n",
       "      <td>0.000008</td>\n",
       "      <td>0.000019</td>\n",
       "      <td>1.046326e-06</td>\n",
       "      <td>Salmonella_enterica</td>\n",
       "    </tr>\n",
       "    <tr>\n",
       "      <th>3</th>\n",
       "      <td>4.632568e-08</td>\n",
       "      <td>-0.000006</td>\n",
       "      <td>0.000012</td>\n",
       "      <td>0.000245</td>\n",
       "      <td>0.000492</td>\n",
       "      <td>0.000522</td>\n",
       "      <td>0.000396</td>\n",
       "      <td>0.000197</td>\n",
       "      <td>-0.000003</td>\n",
       "      <td>-0.000007</td>\n",
       "      <td>...</td>\n",
       "      <td>0.000151</td>\n",
       "      <td>0.000100</td>\n",
       "      <td>0.000180</td>\n",
       "      <td>0.000202</td>\n",
       "      <td>0.000153</td>\n",
       "      <td>0.000021</td>\n",
       "      <td>0.000015</td>\n",
       "      <td>0.000046</td>\n",
       "      <td>-9.536743e-07</td>\n",
       "      <td>Salmonella_enterica</td>\n",
       "    </tr>\n",
       "    <tr>\n",
       "      <th>4</th>\n",
       "      <td>-9.536743e-07</td>\n",
       "      <td>-0.000010</td>\n",
       "      <td>-0.000043</td>\n",
       "      <td>-0.000114</td>\n",
       "      <td>-0.000200</td>\n",
       "      <td>-0.000240</td>\n",
       "      <td>-0.000200</td>\n",
       "      <td>-0.000114</td>\n",
       "      <td>-0.000043</td>\n",
       "      <td>-0.000010</td>\n",
       "      <td>...</td>\n",
       "      <td>-0.000086</td>\n",
       "      <td>-0.000043</td>\n",
       "      <td>-0.000086</td>\n",
       "      <td>-0.000086</td>\n",
       "      <td>-0.000043</td>\n",
       "      <td>-0.000010</td>\n",
       "      <td>-0.000010</td>\n",
       "      <td>-0.000010</td>\n",
       "      <td>-9.536743e-07</td>\n",
       "      <td>Enterococcus_hirae</td>\n",
       "    </tr>\n",
       "  </tbody>\n",
       "</table>\n",
       "<p>5 rows × 287 columns</p>\n",
       "</div>"
      ],
      "text/plain": [
       "           A0T0G0C10  A0T0G1C9  A0T0G2C8  A0T0G3C7  A0T0G4C6  A0T0G5C5  \\\n",
       "row_id                                                                   \n",
       "0      -9.536743e-07 -0.000010 -0.000043 -0.000114 -0.000200 -0.000240   \n",
       "1      -9.536743e-07 -0.000010 -0.000043  0.000886 -0.000200  0.000760   \n",
       "2      -9.536743e-07 -0.000002  0.000007  0.000129  0.000268  0.000270   \n",
       "3       4.632568e-08 -0.000006  0.000012  0.000245  0.000492  0.000522   \n",
       "4      -9.536743e-07 -0.000010 -0.000043 -0.000114 -0.000200 -0.000240   \n",
       "\n",
       "        A0T0G6C4  A0T0G7C3  A0T0G8C2  A0T0G9C1  ...  A8T0G1C1  A8T0G2C0  \\\n",
       "row_id                                          ...                       \n",
       "0      -0.000200 -0.000114 -0.000043 -0.000010  ... -0.000086 -0.000043   \n",
       "1      -0.000200 -0.000114 -0.000043 -0.000010  ... -0.000086 -0.000043   \n",
       "2       0.000243  0.000125  0.000001 -0.000007  ...  0.000084  0.000048   \n",
       "3       0.000396  0.000197 -0.000003 -0.000007  ...  0.000151  0.000100   \n",
       "4      -0.000200 -0.000114 -0.000043 -0.000010  ... -0.000086 -0.000043   \n",
       "\n",
       "        A8T1G0C1  A8T1G1C0  A8T2G0C0  A9T0G0C1  A9T0G1C0  A9T1G0C0  \\\n",
       "row_id                                                               \n",
       "0      -0.000086 -0.000086 -0.000043 -0.000010 -0.000010 -0.000010   \n",
       "1       0.000914  0.000914 -0.000043 -0.000010 -0.000010 -0.000010   \n",
       "2       0.000081  0.000106  0.000072  0.000010  0.000008  0.000019   \n",
       "3       0.000180  0.000202  0.000153  0.000021  0.000015  0.000046   \n",
       "4      -0.000086 -0.000086 -0.000043 -0.000010 -0.000010 -0.000010   \n",
       "\n",
       "           A10T0G0C0                  target  \n",
       "row_id                                        \n",
       "0      -9.536743e-07  Streptococcus_pyogenes  \n",
       "1      -9.536743e-07     Salmonella_enterica  \n",
       "2       1.046326e-06     Salmonella_enterica  \n",
       "3      -9.536743e-07     Salmonella_enterica  \n",
       "4      -9.536743e-07      Enterococcus_hirae  \n",
       "\n",
       "[5 rows x 287 columns]"
      ]
     },
     "execution_count": 7,
     "metadata": {},
     "output_type": "execute_result"
    }
   ],
   "source": [
    "train_df.head()"
   ]
  },
  {
   "cell_type": "markdown",
   "id": "f0264f31-0ec3-460d-997a-f3427bc5c07f",
   "metadata": {},
   "source": [
    "### Chequeo de NaN values en las columnas"
   ]
  },
  {
   "cell_type": "code",
   "execution_count": 8,
   "id": "3da0c8fd-266d-4f47-83a6-f45171798009",
   "metadata": {},
   "outputs": [
    {
     "data": {
      "text/plain": [
       "0    287\n",
       "dtype: int64"
      ]
     },
     "execution_count": 8,
     "metadata": {},
     "output_type": "execute_result"
    }
   ],
   "source": [
    "train_df.isna().sum().value_counts()"
   ]
  },
  {
   "cell_type": "markdown",
   "id": "08720503-e5e6-40b3-a98e-155f21852b7c",
   "metadata": {},
   "source": [
    "No hay valores faltantes"
   ]
  },
  {
   "cell_type": "markdown",
   "id": "027e3b78-1ba4-4a62-a97f-fea8ba5ccaab",
   "metadata": {},
   "source": [
    "### Chequeo de outliers y eliminación de filas con algún outlier (zscore >= 3)"
   ]
  },
  {
   "cell_type": "code",
   "execution_count": 9,
   "id": "8d63826a-c0d8-4f1d-b9c2-8eb2fa5c1eed",
   "metadata": {
    "tags": []
   },
   "outputs": [],
   "source": [
    "train_df_labels = train_df.pop('target')"
   ]
  },
  {
   "cell_type": "code",
   "execution_count": 10,
   "id": "b2b8e3b8-00da-4fbe-b22b-698dd70b905f",
   "metadata": {},
   "outputs": [],
   "source": [
    "from scipy import stats\n",
    "train_df = train_df[(np.abs(stats.zscore(train_df)) < 3).all(axis=1)]"
   ]
  },
  {
   "cell_type": "code",
   "execution_count": 11,
   "id": "ef7e6b4b-3781-416d-bfcd-d32f755bc972",
   "metadata": {},
   "outputs": [
    {
     "data": {
      "text/plain": [
       "(122623, 286)"
      ]
     },
     "execution_count": 11,
     "metadata": {},
     "output_type": "execute_result"
    }
   ],
   "source": [
    "train_df.shape"
   ]
  },
  {
   "cell_type": "code",
   "execution_count": 12,
   "id": "76f96870-4ef1-4b08-b923-904df4174bc1",
   "metadata": {},
   "outputs": [],
   "source": [
    "train_df_labels = train_df_labels[train_df.index]"
   ]
  },
  {
   "cell_type": "code",
   "execution_count": 13,
   "id": "0cf77f29-03fd-4b04-97a8-231208b92f80",
   "metadata": {},
   "outputs": [
    {
     "data": {
      "text/plain": [
       "(122623,)"
      ]
     },
     "execution_count": 13,
     "metadata": {},
     "output_type": "execute_result"
    }
   ],
   "source": [
    "train_df_labels.shape"
   ]
  },
  {
   "cell_type": "code",
   "execution_count": 14,
   "id": "f1cbda43-d69b-4b9e-ac37-76fb72484f38",
   "metadata": {},
   "outputs": [],
   "source": [
    "train_df['target'] = train_df_labels"
   ]
  },
  {
   "cell_type": "markdown",
   "id": "f668a7d6-dac4-4b9c-b03a-1b32d5dc6326",
   "metadata": {},
   "source": [
    "### chequeo desbalance en cantidad de targets en train_df "
   ]
  },
  {
   "cell_type": "code",
   "execution_count": 24,
   "id": "1475e499-2f35-4435-9667-a0c466e23444",
   "metadata": {},
   "outputs": [
    {
     "data": {
      "text/plain": [
       "target\n",
       "Bacteroides_fragilis        12544\n",
       "Campylobacter_jejuni        11138\n",
       "Enterococcus_hirae          12471\n",
       "Escherichia_coli            12465\n",
       "Escherichia_fergusonii      12574\n",
       "Klebsiella_pneumoniae       10550\n",
       "Salmonella_enterica         11825\n",
       "Staphylococcus_aureus       12859\n",
       "Streptococcus_pneumoniae    13036\n",
       "Streptococcus_pyogenes      13161\n",
       "Name: target, dtype: int64"
      ]
     },
     "execution_count": 24,
     "metadata": {},
     "output_type": "execute_result"
    }
   ],
   "source": [
    "train_df.groupby('target')['target'].count()"
   ]
  },
  {
   "cell_type": "code",
   "execution_count": 31,
   "id": "d2e6bc2d-8f70-4325-8a75-520ddf58ed12",
   "metadata": {},
   "outputs": [
    {
     "data": {
      "text/plain": [
       "<AxesSubplot:xlabel='target', ylabel='target'>"
      ]
     },
     "execution_count": 31,
     "metadata": {},
     "output_type": "execute_result"
    },
    {
     "data": {
      "image/png": "[encoded data removed]",
      "text/plain": [
       "<Figure size 1080x360 with 1 Axes>"
      ]
     },
     "metadata": {
      "needs_background": "light"
     },
     "output_type": "display_data"
    }
   ],
   "source": [
    "plt.figure(figsize=(15,5))\n",
    "plt.xticks(rotation=45)\n",
    "sns.barplot(x=train_df.groupby('target')['target'].count().index, y=train_df.groupby('target')['target'].count())"
   ]
  },
  {
   "cell_type": "markdown",
   "id": "6967a274-4047-49b1-ad6f-fda20af502d8",
   "metadata": {},
   "source": [
    "Las diez bacterias tienen cantidad similar de entradas, por lo que considero que no está desbalanceado y puedo utilizar los datos como están"
   ]
  }
 ],
 "metadata": {
  "kernelspec": {
   "display_name": "Python 3 (ipykernel)",
   "language": "python",
   "name": "python3"
  },
  "language_info": {
   "codemirror_mode": {
    "name": "ipython",
    "version": 3
   },
   "file_extension": ".py",
   "mimetype": "text/x-python",
   "name": "python",
   "nbconvert_exporter": "python",
   "pygments_lexer": "ipython3",
   "version": "3.9.7"
  }
 },
 "nbformat": 4,
 "nbformat_minor": 5
}
