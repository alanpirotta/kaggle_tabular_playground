{
 "cells": [
  {
   "cell_type": "markdown",
   "id": "9a686ddf-fb54-4b1a-93be-2f716ce71629",
   "metadata": {},
   "source": [
    "# <span style=\"text-decoration: underline; color: #ffff00\">March Tabular Playground Series competition</span> \n",
    "![](https://encrypted-tbn0.gstatic.com/images?q=tbn:ANd9GcTJ9fIwYofhSehmxC8QvHDXMU8AY9VP8DvcdA&usqp=CAU)\n",
    "## <span style='color:#ffd700'> Importación de librerías </span>"
   ]
  },
  {
   "cell_type": "code",
   "execution_count": 1,
   "id": "6dc0b5f2-63f0-4751-b036-8749a20b2efa",
   "metadata": {
    "tags": []
   },
   "outputs": [],
   "source": [
    "import zipfile\n",
    "import os\n",
    "import pathlib\n",
    "import pandas as pd\n",
    "import numpy as np\n",
    "import matplotlib.pyplot as plt\n",
    "import seaborn as sns\n",
    "from sklearn.preprocessing import LabelEncoder"
   ]
  },
  {
   "cell_type": "markdown",
   "id": "814df580-4456-4cab-ba99-b3b38faf02a7",
   "metadata": {},
   "source": [
    "## <span style='color:#ffd700'> Descarga de información y generación de DataFrames </span>\n",
    "Descargo la información directo desde la API de Kaggle, la descomprimo y borro el zip original.  \n",
    "Si no se tiene instalado kaggle, descomentar la siguiente celda y correrla. Luego entrar a la consola y correr $kaggle$. Esto creará la carpeta .kaggle en C:\\Users\\user\\, donde se debe copiar el arcivo token (.json) que se obtiene de la subsección API en Account dentro del usuario propio de kaggle."
   ]
  },
  {
   "cell_type": "code",
   "execution_count": 2,
   "id": "b7508515-e7ea-41dc-bb07-9ba021c03ea1",
   "metadata": {},
   "outputs": [],
   "source": [
    "# conda install -c conda-forge kaggle"
   ]
  },
  {
   "cell_type": "code",
   "execution_count": 3,
   "id": "1c274041-1188-43e3-a2a3-b5598521028e",
   "metadata": {
    "collapsed": true,
    "jupyter": {
     "outputs_hidden": true
    },
    "tags": []
   },
   "outputs": [
    {
     "name": "stdout",
     "output_type": "stream",
     "text": [
      "Creating the file\n",
      "name                   size  creationDate         \n",
      "---------------------  ----  -------------------  \n",
      "train.csv              30MB  2022-01-14 15:58:08  \n",
      "sample_submission.csv  25KB  2022-01-14 15:58:08  \n",
      "test.csv               78KB  2022-01-14 15:58:08  \n",
      "Downloading tabular-playground-series-mar-2022.zip to C:\\Users\\alanp\\Data Science\\kaggle_tabular_playground\n",
      "\n"
     ]
    },
    {
     "name": "stderr",
     "output_type": "stream",
     "text": [
      "\n",
      "  0%|          | 0.00/4.71M [00:00<?, ?B/s]\n",
      " 21%|##1       | 1.00M/4.71M [00:00<00:00, 5.16MB/s]\n",
      " 43%|####2     | 2.00M/4.71M [00:00<00:00, 6.90MB/s]\n",
      " 64%|######3   | 3.00M/4.71M [00:00<00:00, 7.04MB/s]\n",
      " 85%|########5 | 4.00M/4.71M [00:00<00:00, 7.71MB/s]\n",
      "100%|##########| 4.71M/4.71M [00:00<00:00, 7.45MB/s]\n"
     ]
    }
   ],
   "source": [
    "file = pathlib.Path(\"datasets/2022_03/train.csv\")\n",
    "if file.exists():\n",
    "    print('Files already exists')\n",
    "else:\n",
    "    print('Creating the file')\n",
    "    !kaggle competitions files -c tabular-playground-series-mar-2022\n",
    "    !kaggle competitions download -c tabular-playground-series-mar-2022\n",
    "    with zipfile.ZipFile(\"tabular-playground-series-mar-2022.zip\", \"r\") as zip_ref:\n",
    "        zip_ref.extractall(r\"C:\\Users\\alanp\\Data Science\\kaggle_tabular_playground\\datasets\\2022_03\")\n",
    "    os.remove(\"tabular-playground-series-mar-2022.zip\")"
   ]
  },
  {
   "cell_type": "markdown",
   "id": "ae4734f5-d90f-405e-a6c8-354e3e652c43",
   "metadata": {},
   "source": [
    "Luego genero los DataFrame desde los .csv utilizando pandas"
   ]
  },
  {
   "cell_type": "code",
   "execution_count": 6,
   "id": "85728dbf-3769-4a4b-b4af-11bf743e3c30",
   "metadata": {},
   "outputs": [],
   "source": [
    "train = pd.read_csv(\"datasets/2022_03/train.csv\", index_col='row_id')\n",
    "test = pd.read_csv(\"datasets/2022_03/test.csv\", index_col='row_id')"
   ]
  },
  {
   "cell_type": "markdown",
   "id": "1b6d504b-c700-4093-9ec5-ff6125d3ec8b",
   "metadata": {},
   "source": [
    "##### hola\n",
    "hola\n",
    "###### hola\n",
    "hola"
   ]
  },
  {
   "cell_type": "code",
   "execution_count": null,
   "id": "00adcbd1-48bd-496e-a4ce-20d619c470c3",
   "metadata": {},
   "outputs": [],
   "source": []
  },
  {
   "cell_type": "code",
   "execution_count": null,
   "id": "532229f3-c1ca-499d-9e46-5ca9afe6db2b",
   "metadata": {},
   "outputs": [],
   "source": []
  },
  {
   "cell_type": "code",
   "execution_count": null,
   "id": "88e39f4c-7d83-4ca1-b2c7-a806cff61782",
   "metadata": {},
   "outputs": [],
   "source": []
  },
  {
   "cell_type": "code",
   "execution_count": null,
   "id": "6323661a-5628-495e-9699-5e3780885d62",
   "metadata": {},
   "outputs": [],
   "source": []
  },
  {
   "cell_type": "markdown",
   "id": "ab0776f0-6bfe-428d-902a-e5ed02448b89",
   "metadata": {},
   "source": [
    "### Predicción del test con el modelo elegido"
   ]
  },
  {
   "cell_type": "code",
   "execution_count": 8,
   "id": "4eeec615-b70d-4456-8f74-cc5b04524f8f",
   "metadata": {
    "tags": []
   },
   "outputs": [],
   "source": [
    "# Habilitar cuando se tenga el modelo entrenado\n",
    "#pred_test = model.predict(test)"
   ]
  },
  {
   "cell_type": "code",
   "execution_count": 9,
   "id": "7ca71b7b-dc48-4f42-815e-2ed7f76027ab",
   "metadata": {},
   "outputs": [],
   "source": [
    "#predictions = la.inverse_transform(pred_test)\n",
    "#predictions"
   ]
  },
  {
   "cell_type": "code",
   "execution_count": 10,
   "id": "112e2d26-9cc9-45ee-80c8-035ec87d0129",
   "metadata": {},
   "outputs": [],
   "source": [
    "# output = pd.DataFrame({'row_id': test.index, 'target': predictions})\n",
    "# output.to_csv('datasets/2022_03/submission1.csv', index=False)\n",
    "# print(\"Your submission was successfully saved!\")"
   ]
  },
  {
   "cell_type": "code",
   "execution_count": 11,
   "id": "a610310e-084c-45ff-bc17-eddbd3808ea8",
   "metadata": {},
   "outputs": [],
   "source": [
    "# !kaggle competitions submit -c tabular-playground-series-mar-2022 -f datasets/2022_03/submission.csv -m \"1- \""
   ]
  },
  {
   "cell_type": "code",
   "execution_count": null,
   "id": "c9853134-7281-491b-8b9e-d8dcdebedf36",
   "metadata": {},
   "outputs": [],
   "source": []
  }
 ],
 "metadata": {
  "kernelspec": {
   "display_name": "Python 3 (ipykernel)",
   "language": "python",
   "name": "python3"
  },
  "language_info": {
   "codemirror_mode": {
    "name": "ipython",
    "version": 3
   },
   "file_extension": ".py",
   "mimetype": "text/x-python",
   "name": "python",
   "nbconvert_exporter": "python",
   "pygments_lexer": "ipython3",
   "version": "3.9.7"
  }
 },
 "nbformat": 4,
 "nbformat_minor": 5
}
