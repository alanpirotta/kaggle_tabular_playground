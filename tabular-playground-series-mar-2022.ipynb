{
 "cells": [
  {
   "cell_type": "markdown",
   "id": "9a686ddf-fb54-4b1a-93be-2f716ce71629",
   "metadata": {},
   "source": [
    "# <span style=\"text-decoration: underline; color: #ffff00\">March Tabular Playground Series competition</span> \n",
    "![](https://encrypted-tbn0.gstatic.com/images?q=tbn:ANd9GcTJ9fIwYofhSehmxC8QvHDXMU8AY9VP8DvcdA&usqp=CAU)\n",
    "## <span style='color:#ffd700'> Importación de librerías </span>"
   ]
  },
  {
   "cell_type": "code",
   "execution_count": 1,
   "id": "6dc0b5f2-63f0-4751-b036-8749a20b2efa",
   "metadata": {
    "tags": []
   },
   "outputs": [],
   "source": [
    "import zipfile\n",
    "import os\n",
    "import pathlib\n",
    "import pandas as pd\n",
    "import numpy as np\n",
    "import matplotlib.pyplot as plt\n",
    "import seaborn as sns\n",
    "from sklearn.preprocessing import LabelEncoder\n",
    "import xgboost"
   ]
  },
  {
   "cell_type": "markdown",
   "id": "814df580-4456-4cab-ba99-b3b38faf02a7",
   "metadata": {},
   "source": [
    "## <span style='color:#ffd700'> Descarga de información y generación de DataFrames </span>\n",
    "Descargo la información directo desde la API de Kaggle, la descomprimo y borro el zip original.  \n",
    "Si no se tiene instalado kaggle, descomentar la siguiente celda y correrla. Luego entrar a la consola y correr $kaggle$. Esto creará la carpeta .kaggle en C:\\Users\\user\\, donde se debe copiar el arcivo token (.json) que se obtiene de la subsección API en Account dentro del usuario propio de kaggle."
   ]
  },
  {
   "cell_type": "code",
   "execution_count": 69,
   "id": "b7508515-e7ea-41dc-bb07-9ba021c03ea1",
   "metadata": {},
   "outputs": [],
   "source": [
    "# conda install -c conda-forge kaggle"
   ]
  },
  {
   "cell_type": "code",
   "execution_count": 101,
   "id": "1c274041-1188-43e3-a2a3-b5598521028e",
   "metadata": {
    "tags": []
   },
   "outputs": [
    {
     "name": "stdout",
     "output_type": "stream",
     "text": [
      "Files already exists\n"
     ]
    }
   ],
   "source": [
    "file = pathlib.Path(\"datasets/2022_03/train.csv\")\n",
    "if file.exists():\n",
    "    print('Files already exists')\n",
    "else:\n",
    "    print('Creating the file')\n",
    "    !kaggle competitions files -c tabular-playground-series-mar-2022\n",
    "    !kaggle competitions download -c tabular-playground-series-mar-2022\n",
    "    with zipfile.ZipFile(\"tabular-playground-series-mar-2022.zip\", \"r\") as zip_ref:\n",
    "        zip_ref.extractall(r\"C:\\Users\\alanp\\Data Science\\kaggle_tabular_playground\\datasets\\2022_03\")\n",
    "    os.remove(\"tabular-playground-series-mar-2022.zip\")"
   ]
  },
  {
   "cell_type": "markdown",
   "id": "ae4734f5-d90f-405e-a6c8-354e3e652c43",
   "metadata": {},
   "source": [
    "Luego genero los DataFrame desde los .csv utilizando pandas"
   ]
  },
  {
   "cell_type": "code",
   "execution_count": 102,
   "id": "85728dbf-3769-4a4b-b4af-11bf743e3c30",
   "metadata": {},
   "outputs": [],
   "source": [
    "train = pd.read_csv(\"datasets/2022_03/train.csv\", index_col='row_id')\n",
    "test = pd.read_csv(\"datasets/2022_03/test.csv\", index_col='row_id')"
   ]
  },
  {
   "cell_type": "code",
   "execution_count": 103,
   "id": "d41cbcd2-80fc-4ba8-b3e4-25c55f5c1446",
   "metadata": {},
   "outputs": [
    {
     "data": {
      "text/html": [
       "<div>\n",
       "<style scoped>\n",
       "    .dataframe tbody tr th:only-of-type {\n",
       "        vertical-align: middle;\n",
       "    }\n",
       "\n",
       "    .dataframe tbody tr th {\n",
       "        vertical-align: top;\n",
       "    }\n",
       "\n",
       "    .dataframe thead th {\n",
       "        text-align: right;\n",
       "    }\n",
       "</style>\n",
       "<table border=\"1\" class=\"dataframe\">\n",
       "  <thead>\n",
       "    <tr style=\"text-align: right;\">\n",
       "      <th></th>\n",
       "      <th>time</th>\n",
       "      <th>x</th>\n",
       "      <th>y</th>\n",
       "      <th>direction</th>\n",
       "      <th>congestion</th>\n",
       "    </tr>\n",
       "    <tr>\n",
       "      <th>row_id</th>\n",
       "      <th></th>\n",
       "      <th></th>\n",
       "      <th></th>\n",
       "      <th></th>\n",
       "      <th></th>\n",
       "    </tr>\n",
       "  </thead>\n",
       "  <tbody>\n",
       "    <tr>\n",
       "      <th>0</th>\n",
       "      <td>1991-04-01 00:00:00</td>\n",
       "      <td>0</td>\n",
       "      <td>0</td>\n",
       "      <td>EB</td>\n",
       "      <td>70</td>\n",
       "    </tr>\n",
       "    <tr>\n",
       "      <th>1</th>\n",
       "      <td>1991-04-01 00:00:00</td>\n",
       "      <td>0</td>\n",
       "      <td>0</td>\n",
       "      <td>NB</td>\n",
       "      <td>49</td>\n",
       "    </tr>\n",
       "    <tr>\n",
       "      <th>2</th>\n",
       "      <td>1991-04-01 00:00:00</td>\n",
       "      <td>0</td>\n",
       "      <td>0</td>\n",
       "      <td>SB</td>\n",
       "      <td>24</td>\n",
       "    </tr>\n",
       "    <tr>\n",
       "      <th>3</th>\n",
       "      <td>1991-04-01 00:00:00</td>\n",
       "      <td>0</td>\n",
       "      <td>1</td>\n",
       "      <td>EB</td>\n",
       "      <td>18</td>\n",
       "    </tr>\n",
       "    <tr>\n",
       "      <th>4</th>\n",
       "      <td>1991-04-01 00:00:00</td>\n",
       "      <td>0</td>\n",
       "      <td>1</td>\n",
       "      <td>NB</td>\n",
       "      <td>60</td>\n",
       "    </tr>\n",
       "  </tbody>\n",
       "</table>\n",
       "</div>"
      ],
      "text/plain": [
       "                       time  x  y direction  congestion\n",
       "row_id                                                 \n",
       "0       1991-04-01 00:00:00  0  0        EB          70\n",
       "1       1991-04-01 00:00:00  0  0        NB          49\n",
       "2       1991-04-01 00:00:00  0  0        SB          24\n",
       "3       1991-04-01 00:00:00  0  1        EB          18\n",
       "4       1991-04-01 00:00:00  0  1        NB          60"
      ]
     },
     "execution_count": 103,
     "metadata": {},
     "output_type": "execute_result"
    }
   ],
   "source": [
    "train.head()"
   ]
  },
  {
   "cell_type": "markdown",
   "id": "7ff351cb-1db1-4a6d-98c3-719650a8727a",
   "metadata": {},
   "source": [
    "Cantidad de mediciones por dirección al mismo tiempo en cada camino/dirección"
   ]
  },
  {
   "cell_type": "code",
   "execution_count": 104,
   "id": "38a53e5f-0fc3-4bd5-bb97-c8493e46de1b",
   "metadata": {},
   "outputs": [
    {
     "data": {
      "text/html": [
       "<div>\n",
       "<style scoped>\n",
       "    .dataframe tbody tr th:only-of-type {\n",
       "        vertical-align: middle;\n",
       "    }\n",
       "\n",
       "    .dataframe tbody tr th {\n",
       "        vertical-align: top;\n",
       "    }\n",
       "\n",
       "    .dataframe thead th {\n",
       "        text-align: right;\n",
       "    }\n",
       "</style>\n",
       "<table border=\"1\" class=\"dataframe\">\n",
       "  <thead>\n",
       "    <tr style=\"text-align: right;\">\n",
       "      <th></th>\n",
       "      <th>time</th>\n",
       "      <th>x</th>\n",
       "      <th>y</th>\n",
       "      <th>direction</th>\n",
       "      <th>congestion</th>\n",
       "    </tr>\n",
       "    <tr>\n",
       "      <th>row_id</th>\n",
       "      <th></th>\n",
       "      <th></th>\n",
       "      <th></th>\n",
       "      <th></th>\n",
       "      <th></th>\n",
       "    </tr>\n",
       "  </thead>\n",
       "  <tbody>\n",
       "    <tr>\n",
       "      <th>139945</th>\n",
       "      <td>1991-05-01 00:20:00</td>\n",
       "      <td>0</td>\n",
       "      <td>0</td>\n",
       "      <td>EB</td>\n",
       "      <td>37</td>\n",
       "    </tr>\n",
       "    <tr>\n",
       "      <th>139996</th>\n",
       "      <td>1991-05-01 00:20:00</td>\n",
       "      <td>2</td>\n",
       "      <td>2</td>\n",
       "      <td>EB</td>\n",
       "      <td>55</td>\n",
       "    </tr>\n",
       "    <tr>\n",
       "      <th>139988</th>\n",
       "      <td>1991-05-01 00:20:00</td>\n",
       "      <td>2</td>\n",
       "      <td>1</td>\n",
       "      <td>EB</td>\n",
       "      <td>93</td>\n",
       "    </tr>\n",
       "    <tr>\n",
       "      <th>139984</th>\n",
       "      <td>1991-05-01 00:20:00</td>\n",
       "      <td>2</td>\n",
       "      <td>0</td>\n",
       "      <td>EB</td>\n",
       "      <td>66</td>\n",
       "    </tr>\n",
       "    <tr>\n",
       "      <th>139978</th>\n",
       "      <td>1991-05-01 00:20:00</td>\n",
       "      <td>1</td>\n",
       "      <td>3</td>\n",
       "      <td>EB</td>\n",
       "      <td>44</td>\n",
       "    </tr>\n",
       "    <tr>\n",
       "      <th>...</th>\n",
       "      <td>...</td>\n",
       "      <td>...</td>\n",
       "      <td>...</td>\n",
       "      <td>...</td>\n",
       "      <td>...</td>\n",
       "    </tr>\n",
       "    <tr>\n",
       "      <th>139961</th>\n",
       "      <td>1991-05-01 00:20:00</td>\n",
       "      <td>0</td>\n",
       "      <td>3</td>\n",
       "      <td>WB</td>\n",
       "      <td>64</td>\n",
       "    </tr>\n",
       "    <tr>\n",
       "      <th>139955</th>\n",
       "      <td>1991-05-01 00:20:00</td>\n",
       "      <td>0</td>\n",
       "      <td>2</td>\n",
       "      <td>WB</td>\n",
       "      <td>34</td>\n",
       "    </tr>\n",
       "    <tr>\n",
       "      <th>139951</th>\n",
       "      <td>1991-05-01 00:20:00</td>\n",
       "      <td>0</td>\n",
       "      <td>1</td>\n",
       "      <td>WB</td>\n",
       "      <td>65</td>\n",
       "    </tr>\n",
       "    <tr>\n",
       "      <th>139995</th>\n",
       "      <td>1991-05-01 00:20:00</td>\n",
       "      <td>2</td>\n",
       "      <td>1</td>\n",
       "      <td>WB</td>\n",
       "      <td>52</td>\n",
       "    </tr>\n",
       "    <tr>\n",
       "      <th>140009</th>\n",
       "      <td>1991-05-01 00:20:00</td>\n",
       "      <td>2</td>\n",
       "      <td>3</td>\n",
       "      <td>WB</td>\n",
       "      <td>52</td>\n",
       "    </tr>\n",
       "  </tbody>\n",
       "</table>\n",
       "<p>65 rows × 5 columns</p>\n",
       "</div>"
      ],
      "text/plain": [
       "                       time  x  y direction  congestion\n",
       "row_id                                                 \n",
       "139945  1991-05-01 00:20:00  0  0        EB          37\n",
       "139996  1991-05-01 00:20:00  2  2        EB          55\n",
       "139988  1991-05-01 00:20:00  2  1        EB          93\n",
       "139984  1991-05-01 00:20:00  2  0        EB          66\n",
       "139978  1991-05-01 00:20:00  1  3        EB          44\n",
       "...                     ... .. ..       ...         ...\n",
       "139961  1991-05-01 00:20:00  0  3        WB          64\n",
       "139955  1991-05-01 00:20:00  0  2        WB          34\n",
       "139951  1991-05-01 00:20:00  0  1        WB          65\n",
       "139995  1991-05-01 00:20:00  2  1        WB          52\n",
       "140009  1991-05-01 00:20:00  2  3        WB          52\n",
       "\n",
       "[65 rows x 5 columns]"
      ]
     },
     "execution_count": 104,
     "metadata": {},
     "output_type": "execute_result"
    }
   ],
   "source": [
    "train[train['time'] == '1991-05-01 00:20:00'].sort_values('direction')"
   ]
  },
  {
   "cell_type": "code",
   "execution_count": 105,
   "id": "fb19fb80-798d-480f-9eb2-cb7ee5f23358",
   "metadata": {},
   "outputs": [
    {
     "data": {
      "text/plain": [
       "1    65\n",
       "Name: congestion, dtype: int64"
      ]
     },
     "execution_count": 105,
     "metadata": {},
     "output_type": "execute_result"
    }
   ],
   "source": [
    "train[train['time'] == '1991-05-01 00:20:00'].groupby(['x','y','direction'])['congestion'].count().value_counts()"
   ]
  },
  {
   "cell_type": "markdown",
   "id": "1483ab41-5a1b-4326-9244-8a96d11cb8d5",
   "metadata": {},
   "source": [
    "## <span style='color:#ffd700'> Feature Engineering</span>\n"
   ]
  },
  {
   "cell_type": "markdown",
   "id": "271e9dc6-6be7-4787-9b24-b765997c5609",
   "metadata": {},
   "source": [
    "Modifico la columna \"time\" y genero columnas para día de semana, horas y minutos"
   ]
  },
  {
   "cell_type": "code",
   "execution_count": 106,
   "id": "ffd90900-c966-4aa4-9a45-efbdebff094c",
   "metadata": {},
   "outputs": [],
   "source": [
    "train['time'] = pd.to_datetime(train['time'])\n",
    "test['time'] = pd.to_datetime(test['time'])"
   ]
  },
  {
   "cell_type": "code",
   "execution_count": 107,
   "id": "532229f3-c1ca-499d-9e46-5ca9afe6db2b",
   "metadata": {},
   "outputs": [],
   "source": [
    "train['weekday'] = train['time'].dt.weekday\n",
    "train['hour'] = train['time'].dt.hour\n",
    "train['minute']  = train['time'].dt.minute\n",
    "train['road'] = train['x'].astype(str) + train['y'].astype(str) + train['direction']\n",
    "test['weekday'] = test['time'].dt.weekday\n",
    "test['hour'] = test['time'].dt.hour\n",
    "test['minute']  = test['time'].dt.minute\n",
    "test['road'] = test['x'].astype(str) + test['y'].astype(str) + test['direction']"
   ]
  },
  {
   "cell_type": "code",
   "execution_count": 108,
   "id": "88e39f4c-7d83-4ca1-b2c7-a806cff61782",
   "metadata": {
    "tags": []
   },
   "outputs": [
    {
     "data": {
      "text/html": [
       "<div>\n",
       "<style scoped>\n",
       "    .dataframe tbody tr th:only-of-type {\n",
       "        vertical-align: middle;\n",
       "    }\n",
       "\n",
       "    .dataframe tbody tr th {\n",
       "        vertical-align: top;\n",
       "    }\n",
       "\n",
       "    .dataframe thead th {\n",
       "        text-align: right;\n",
       "    }\n",
       "</style>\n",
       "<table border=\"1\" class=\"dataframe\">\n",
       "  <thead>\n",
       "    <tr style=\"text-align: right;\">\n",
       "      <th></th>\n",
       "      <th>time</th>\n",
       "      <th>x</th>\n",
       "      <th>y</th>\n",
       "      <th>direction</th>\n",
       "      <th>congestion</th>\n",
       "      <th>weekday</th>\n",
       "      <th>hour</th>\n",
       "      <th>minute</th>\n",
       "      <th>road</th>\n",
       "    </tr>\n",
       "    <tr>\n",
       "      <th>row_id</th>\n",
       "      <th></th>\n",
       "      <th></th>\n",
       "      <th></th>\n",
       "      <th></th>\n",
       "      <th></th>\n",
       "      <th></th>\n",
       "      <th></th>\n",
       "      <th></th>\n",
       "      <th></th>\n",
       "    </tr>\n",
       "  </thead>\n",
       "  <tbody>\n",
       "    <tr>\n",
       "      <th>0</th>\n",
       "      <td>1991-04-01</td>\n",
       "      <td>0</td>\n",
       "      <td>0</td>\n",
       "      <td>EB</td>\n",
       "      <td>70</td>\n",
       "      <td>0</td>\n",
       "      <td>0</td>\n",
       "      <td>0</td>\n",
       "      <td>00EB</td>\n",
       "    </tr>\n",
       "    <tr>\n",
       "      <th>1</th>\n",
       "      <td>1991-04-01</td>\n",
       "      <td>0</td>\n",
       "      <td>0</td>\n",
       "      <td>NB</td>\n",
       "      <td>49</td>\n",
       "      <td>0</td>\n",
       "      <td>0</td>\n",
       "      <td>0</td>\n",
       "      <td>00NB</td>\n",
       "    </tr>\n",
       "    <tr>\n",
       "      <th>2</th>\n",
       "      <td>1991-04-01</td>\n",
       "      <td>0</td>\n",
       "      <td>0</td>\n",
       "      <td>SB</td>\n",
       "      <td>24</td>\n",
       "      <td>0</td>\n",
       "      <td>0</td>\n",
       "      <td>0</td>\n",
       "      <td>00SB</td>\n",
       "    </tr>\n",
       "    <tr>\n",
       "      <th>3</th>\n",
       "      <td>1991-04-01</td>\n",
       "      <td>0</td>\n",
       "      <td>1</td>\n",
       "      <td>EB</td>\n",
       "      <td>18</td>\n",
       "      <td>0</td>\n",
       "      <td>0</td>\n",
       "      <td>0</td>\n",
       "      <td>01EB</td>\n",
       "    </tr>\n",
       "    <tr>\n",
       "      <th>4</th>\n",
       "      <td>1991-04-01</td>\n",
       "      <td>0</td>\n",
       "      <td>1</td>\n",
       "      <td>NB</td>\n",
       "      <td>60</td>\n",
       "      <td>0</td>\n",
       "      <td>0</td>\n",
       "      <td>0</td>\n",
       "      <td>01NB</td>\n",
       "    </tr>\n",
       "  </tbody>\n",
       "</table>\n",
       "</div>"
      ],
      "text/plain": [
       "             time  x  y direction  congestion  weekday  hour  minute  road\n",
       "row_id                                                                    \n",
       "0      1991-04-01  0  0        EB          70        0     0       0  00EB\n",
       "1      1991-04-01  0  0        NB          49        0     0       0  00NB\n",
       "2      1991-04-01  0  0        SB          24        0     0       0  00SB\n",
       "3      1991-04-01  0  1        EB          18        0     0       0  01EB\n",
       "4      1991-04-01  0  1        NB          60        0     0       0  01NB"
      ]
     },
     "execution_count": 108,
     "metadata": {},
     "output_type": "execute_result"
    }
   ],
   "source": [
    "train.head()"
   ]
  },
  {
   "cell_type": "markdown",
   "id": "206e1a93-cc6c-4896-ab02-6ba63ed07eca",
   "metadata": {},
   "source": [
    "Genero las medianas y los desvíos estándar de congestión según el camino, hora y día"
   ]
  },
  {
   "cell_type": "code",
   "execution_count": 109,
   "id": "017baacd-0151-4e11-8fae-a1095750cfeb",
   "metadata": {},
   "outputs": [
    {
     "data": {
      "text/html": [
       "<div>\n",
       "<style scoped>\n",
       "    .dataframe tbody tr th:only-of-type {\n",
       "        vertical-align: middle;\n",
       "    }\n",
       "\n",
       "    .dataframe tbody tr th {\n",
       "        vertical-align: top;\n",
       "    }\n",
       "\n",
       "    .dataframe thead th {\n",
       "        text-align: right;\n",
       "    }\n",
       "</style>\n",
       "<table border=\"1\" class=\"dataframe\">\n",
       "  <thead>\n",
       "    <tr style=\"text-align: right;\">\n",
       "      <th></th>\n",
       "      <th>time</th>\n",
       "      <th>x</th>\n",
       "      <th>y</th>\n",
       "      <th>direction</th>\n",
       "      <th>weekday</th>\n",
       "      <th>hour</th>\n",
       "      <th>minute</th>\n",
       "      <th>road</th>\n",
       "    </tr>\n",
       "    <tr>\n",
       "      <th>row_id</th>\n",
       "      <th></th>\n",
       "      <th></th>\n",
       "      <th></th>\n",
       "      <th></th>\n",
       "      <th></th>\n",
       "      <th></th>\n",
       "      <th></th>\n",
       "      <th></th>\n",
       "    </tr>\n",
       "  </thead>\n",
       "  <tbody>\n",
       "    <tr>\n",
       "      <th>848835</th>\n",
       "      <td>1991-09-30 12:00:00</td>\n",
       "      <td>0</td>\n",
       "      <td>0</td>\n",
       "      <td>EB</td>\n",
       "      <td>0</td>\n",
       "      <td>12</td>\n",
       "      <td>0</td>\n",
       "      <td>00EB</td>\n",
       "    </tr>\n",
       "    <tr>\n",
       "      <th>848836</th>\n",
       "      <td>1991-09-30 12:00:00</td>\n",
       "      <td>0</td>\n",
       "      <td>0</td>\n",
       "      <td>NB</td>\n",
       "      <td>0</td>\n",
       "      <td>12</td>\n",
       "      <td>0</td>\n",
       "      <td>00NB</td>\n",
       "    </tr>\n",
       "    <tr>\n",
       "      <th>848837</th>\n",
       "      <td>1991-09-30 12:00:00</td>\n",
       "      <td>0</td>\n",
       "      <td>0</td>\n",
       "      <td>SB</td>\n",
       "      <td>0</td>\n",
       "      <td>12</td>\n",
       "      <td>0</td>\n",
       "      <td>00SB</td>\n",
       "    </tr>\n",
       "    <tr>\n",
       "      <th>848838</th>\n",
       "      <td>1991-09-30 12:00:00</td>\n",
       "      <td>0</td>\n",
       "      <td>1</td>\n",
       "      <td>EB</td>\n",
       "      <td>0</td>\n",
       "      <td>12</td>\n",
       "      <td>0</td>\n",
       "      <td>01EB</td>\n",
       "    </tr>\n",
       "    <tr>\n",
       "      <th>848839</th>\n",
       "      <td>1991-09-30 12:00:00</td>\n",
       "      <td>0</td>\n",
       "      <td>1</td>\n",
       "      <td>NB</td>\n",
       "      <td>0</td>\n",
       "      <td>12</td>\n",
       "      <td>0</td>\n",
       "      <td>01NB</td>\n",
       "    </tr>\n",
       "    <tr>\n",
       "      <th>...</th>\n",
       "      <td>...</td>\n",
       "      <td>...</td>\n",
       "      <td>...</td>\n",
       "      <td>...</td>\n",
       "      <td>...</td>\n",
       "      <td>...</td>\n",
       "      <td>...</td>\n",
       "      <td>...</td>\n",
       "    </tr>\n",
       "    <tr>\n",
       "      <th>851170</th>\n",
       "      <td>1991-09-30 23:40:00</td>\n",
       "      <td>2</td>\n",
       "      <td>3</td>\n",
       "      <td>NB</td>\n",
       "      <td>0</td>\n",
       "      <td>23</td>\n",
       "      <td>40</td>\n",
       "      <td>23NB</td>\n",
       "    </tr>\n",
       "    <tr>\n",
       "      <th>851171</th>\n",
       "      <td>1991-09-30 23:40:00</td>\n",
       "      <td>2</td>\n",
       "      <td>3</td>\n",
       "      <td>NE</td>\n",
       "      <td>0</td>\n",
       "      <td>23</td>\n",
       "      <td>40</td>\n",
       "      <td>23NE</td>\n",
       "    </tr>\n",
       "    <tr>\n",
       "      <th>851172</th>\n",
       "      <td>1991-09-30 23:40:00</td>\n",
       "      <td>2</td>\n",
       "      <td>3</td>\n",
       "      <td>SB</td>\n",
       "      <td>0</td>\n",
       "      <td>23</td>\n",
       "      <td>40</td>\n",
       "      <td>23SB</td>\n",
       "    </tr>\n",
       "    <tr>\n",
       "      <th>851173</th>\n",
       "      <td>1991-09-30 23:40:00</td>\n",
       "      <td>2</td>\n",
       "      <td>3</td>\n",
       "      <td>SW</td>\n",
       "      <td>0</td>\n",
       "      <td>23</td>\n",
       "      <td>40</td>\n",
       "      <td>23SW</td>\n",
       "    </tr>\n",
       "    <tr>\n",
       "      <th>851174</th>\n",
       "      <td>1991-09-30 23:40:00</td>\n",
       "      <td>2</td>\n",
       "      <td>3</td>\n",
       "      <td>WB</td>\n",
       "      <td>0</td>\n",
       "      <td>23</td>\n",
       "      <td>40</td>\n",
       "      <td>23WB</td>\n",
       "    </tr>\n",
       "  </tbody>\n",
       "</table>\n",
       "<p>2340 rows × 8 columns</p>\n",
       "</div>"
      ],
      "text/plain": [
       "                      time  x  y direction  weekday  hour  minute  road\n",
       "row_id                                                                 \n",
       "848835 1991-09-30 12:00:00  0  0        EB        0    12       0  00EB\n",
       "848836 1991-09-30 12:00:00  0  0        NB        0    12       0  00NB\n",
       "848837 1991-09-30 12:00:00  0  0        SB        0    12       0  00SB\n",
       "848838 1991-09-30 12:00:00  0  1        EB        0    12       0  01EB\n",
       "848839 1991-09-30 12:00:00  0  1        NB        0    12       0  01NB\n",
       "...                    ... .. ..       ...      ...   ...     ...   ...\n",
       "851170 1991-09-30 23:40:00  2  3        NB        0    23      40  23NB\n",
       "851171 1991-09-30 23:40:00  2  3        NE        0    23      40  23NE\n",
       "851172 1991-09-30 23:40:00  2  3        SB        0    23      40  23SB\n",
       "851173 1991-09-30 23:40:00  2  3        SW        0    23      40  23SW\n",
       "851174 1991-09-30 23:40:00  2  3        WB        0    23      40  23WB\n",
       "\n",
       "[2340 rows x 8 columns]"
      ]
     },
     "execution_count": 109,
     "metadata": {},
     "output_type": "execute_result"
    }
   ],
   "source": [
    "test"
   ]
  },
  {
   "cell_type": "code",
   "execution_count": 110,
   "id": "51c5ec53-eb3a-49c6-a969-072ee936dce7",
   "metadata": {},
   "outputs": [],
   "source": [
    "medians = pd.DataFrame(train.groupby(['road','weekday','hour','minute'])['congestion'].median().reset_index())\n",
    "medians = medians.rename(columns={'congestion':'median'})\n",
    "stds = pd.DataFrame(train.groupby(['road','weekday','hour','minute'])['congestion'].std().reset_index())\n",
    "stds = stds.rename(columns={'congestion':'std'})"
   ]
  },
  {
   "cell_type": "code",
   "execution_count": 111,
   "id": "e0829c86-442f-4db3-b314-c8d57c4282e7",
   "metadata": {},
   "outputs": [
    {
     "data": {
      "text/html": [
       "<div>\n",
       "<style scoped>\n",
       "    .dataframe tbody tr th:only-of-type {\n",
       "        vertical-align: middle;\n",
       "    }\n",
       "\n",
       "    .dataframe tbody tr th {\n",
       "        vertical-align: top;\n",
       "    }\n",
       "\n",
       "    .dataframe thead th {\n",
       "        text-align: right;\n",
       "    }\n",
       "</style>\n",
       "<table border=\"1\" class=\"dataframe\">\n",
       "  <thead>\n",
       "    <tr style=\"text-align: right;\">\n",
       "      <th></th>\n",
       "      <th>road</th>\n",
       "      <th>weekday</th>\n",
       "      <th>hour</th>\n",
       "      <th>minute</th>\n",
       "      <th>median</th>\n",
       "    </tr>\n",
       "  </thead>\n",
       "  <tbody>\n",
       "    <tr>\n",
       "      <th>31824</th>\n",
       "      <td>23SW</td>\n",
       "      <td>1</td>\n",
       "      <td>0</td>\n",
       "      <td>0</td>\n",
       "      <td>11.0</td>\n",
       "    </tr>\n",
       "    <tr>\n",
       "      <th>31897</th>\n",
       "      <td>23SW</td>\n",
       "      <td>2</td>\n",
       "      <td>0</td>\n",
       "      <td>20</td>\n",
       "      <td>11.0</td>\n",
       "    </tr>\n",
       "    <tr>\n",
       "      <th>31896</th>\n",
       "      <td>23SW</td>\n",
       "      <td>2</td>\n",
       "      <td>0</td>\n",
       "      <td>0</td>\n",
       "      <td>11.0</td>\n",
       "    </tr>\n",
       "    <tr>\n",
       "      <th>31895</th>\n",
       "      <td>23SW</td>\n",
       "      <td>1</td>\n",
       "      <td>23</td>\n",
       "      <td>40</td>\n",
       "      <td>11.0</td>\n",
       "    </tr>\n",
       "    <tr>\n",
       "      <th>32123</th>\n",
       "      <td>23SW</td>\n",
       "      <td>5</td>\n",
       "      <td>3</td>\n",
       "      <td>40</td>\n",
       "      <td>11.0</td>\n",
       "    </tr>\n",
       "    <tr>\n",
       "      <th>...</th>\n",
       "      <td>...</td>\n",
       "      <td>...</td>\n",
       "      <td>...</td>\n",
       "      <td>...</td>\n",
       "      <td>...</td>\n",
       "    </tr>\n",
       "    <tr>\n",
       "      <th>29429</th>\n",
       "      <td>22WB</td>\n",
       "      <td>2</td>\n",
       "      <td>17</td>\n",
       "      <td>40</td>\n",
       "      <td>88.0</td>\n",
       "    </tr>\n",
       "    <tr>\n",
       "      <th>27916</th>\n",
       "      <td>22SB</td>\n",
       "      <td>2</td>\n",
       "      <td>17</td>\n",
       "      <td>20</td>\n",
       "      <td>88.0</td>\n",
       "    </tr>\n",
       "    <tr>\n",
       "      <th>27844</th>\n",
       "      <td>22SB</td>\n",
       "      <td>1</td>\n",
       "      <td>17</td>\n",
       "      <td>20</td>\n",
       "      <td>88.0</td>\n",
       "    </tr>\n",
       "    <tr>\n",
       "      <th>5477</th>\n",
       "      <td>02WB</td>\n",
       "      <td>6</td>\n",
       "      <td>1</td>\n",
       "      <td>40</td>\n",
       "      <td>88.5</td>\n",
       "    </tr>\n",
       "    <tr>\n",
       "      <th>29501</th>\n",
       "      <td>22WB</td>\n",
       "      <td>3</td>\n",
       "      <td>17</td>\n",
       "      <td>40</td>\n",
       "      <td>89.5</td>\n",
       "    </tr>\n",
       "  </tbody>\n",
       "</table>\n",
       "<p>32760 rows × 5 columns</p>\n",
       "</div>"
      ],
      "text/plain": [
       "       road  weekday  hour  minute  median\n",
       "31824  23SW        1     0       0    11.0\n",
       "31897  23SW        2     0      20    11.0\n",
       "31896  23SW        2     0       0    11.0\n",
       "31895  23SW        1    23      40    11.0\n",
       "32123  23SW        5     3      40    11.0\n",
       "...     ...      ...   ...     ...     ...\n",
       "29429  22WB        2    17      40    88.0\n",
       "27916  22SB        2    17      20    88.0\n",
       "27844  22SB        1    17      20    88.0\n",
       "5477   02WB        6     1      40    88.5\n",
       "29501  22WB        3    17      40    89.5\n",
       "\n",
       "[32760 rows x 5 columns]"
      ]
     },
     "execution_count": 111,
     "metadata": {},
     "output_type": "execute_result"
    }
   ],
   "source": [
    "medians.sort_values('median')"
   ]
  },
  {
   "cell_type": "code",
   "execution_count": 112,
   "id": "38242ef6-6bbe-49b1-8b95-2e7379e19942",
   "metadata": {},
   "outputs": [],
   "source": [
    "train = train.merge(medians, how='left', on=['road','weekday','hour','minute'])\n",
    "train = train.merge(stds, how='left', on=['road','weekday','hour','minute'])\n",
    "X_test = test.merge(medians, how='left', on=['road','weekday','hour','minute'])\n",
    "X_test = X_test.merge(stds, how='left', on=['road','weekday','hour','minute'])"
   ]
  },
  {
   "cell_type": "code",
   "execution_count": 116,
   "id": "424ef01e-15dd-4ca1-ae6f-e848616cc6aa",
   "metadata": {},
   "outputs": [
    {
     "data": {
      "text/html": [
       "<div>\n",
       "<style scoped>\n",
       "    .dataframe tbody tr th:only-of-type {\n",
       "        vertical-align: middle;\n",
       "    }\n",
       "\n",
       "    .dataframe tbody tr th {\n",
       "        vertical-align: top;\n",
       "    }\n",
       "\n",
       "    .dataframe thead th {\n",
       "        text-align: right;\n",
       "    }\n",
       "</style>\n",
       "<table border=\"1\" class=\"dataframe\">\n",
       "  <thead>\n",
       "    <tr style=\"text-align: right;\">\n",
       "      <th></th>\n",
       "      <th>weekday</th>\n",
       "      <th>hour</th>\n",
       "      <th>minute</th>\n",
       "      <th>road</th>\n",
       "      <th>median</th>\n",
       "      <th>std</th>\n",
       "    </tr>\n",
       "  </thead>\n",
       "  <tbody>\n",
       "    <tr>\n",
       "      <th>0</th>\n",
       "      <td>0</td>\n",
       "      <td>12</td>\n",
       "      <td>0</td>\n",
       "      <td>00EB</td>\n",
       "      <td>47.0</td>\n",
       "      <td>9.240130</td>\n",
       "    </tr>\n",
       "    <tr>\n",
       "      <th>1</th>\n",
       "      <td>0</td>\n",
       "      <td>12</td>\n",
       "      <td>0</td>\n",
       "      <td>00NB</td>\n",
       "      <td>35.0</td>\n",
       "      <td>7.042836</td>\n",
       "    </tr>\n",
       "    <tr>\n",
       "      <th>2</th>\n",
       "      <td>0</td>\n",
       "      <td>12</td>\n",
       "      <td>0</td>\n",
       "      <td>00SB</td>\n",
       "      <td>56.5</td>\n",
       "      <td>10.160633</td>\n",
       "    </tr>\n",
       "    <tr>\n",
       "      <th>3</th>\n",
       "      <td>0</td>\n",
       "      <td>12</td>\n",
       "      <td>0</td>\n",
       "      <td>01EB</td>\n",
       "      <td>22.0</td>\n",
       "      <td>5.012139</td>\n",
       "    </tr>\n",
       "    <tr>\n",
       "      <th>4</th>\n",
       "      <td>0</td>\n",
       "      <td>12</td>\n",
       "      <td>0</td>\n",
       "      <td>01NB</td>\n",
       "      <td>72.0</td>\n",
       "      <td>7.441671</td>\n",
       "    </tr>\n",
       "  </tbody>\n",
       "</table>\n",
       "</div>"
      ],
      "text/plain": [
       "   weekday  hour  minute  road  median        std\n",
       "0        0    12       0  00EB    47.0   9.240130\n",
       "1        0    12       0  00NB    35.0   7.042836\n",
       "2        0    12       0  00SB    56.5  10.160633\n",
       "3        0    12       0  01EB    22.0   5.012139\n",
       "4        0    12       0  01NB    72.0   7.441671"
      ]
     },
     "execution_count": 116,
     "metadata": {},
     "output_type": "execute_result"
    }
   ],
   "source": [
    "X_test.head()"
   ]
  },
  {
   "cell_type": "code",
   "execution_count": 117,
   "id": "92653e99-8261-4de0-a6ac-43563dc0a32d",
   "metadata": {
    "collapsed": true,
    "jupyter": {
     "outputs_hidden": true
    },
    "tags": []
   },
   "outputs": [
    {
     "ename": "KeyError",
     "evalue": "\"['time' 'x' 'y' 'direction'] not found in axis\"",
     "output_type": "error",
     "traceback": [
      "\u001b[1;31m---------------------------------------------------------------------------\u001b[0m",
      "\u001b[1;31mKeyError\u001b[0m                                  Traceback (most recent call last)",
      "\u001b[1;32m~\\AppData\\Local\\Temp/ipykernel_25920/2157853508.py\u001b[0m in \u001b[0;36m<module>\u001b[1;34m\u001b[0m\n\u001b[1;32m----> 1\u001b[1;33m \u001b[0mtrain\u001b[0m \u001b[1;33m=\u001b[0m \u001b[0mtrain\u001b[0m\u001b[1;33m.\u001b[0m\u001b[0mdrop\u001b[0m\u001b[1;33m(\u001b[0m\u001b[0mcolumns\u001b[0m\u001b[1;33m=\u001b[0m\u001b[1;33m[\u001b[0m\u001b[1;34m'time'\u001b[0m\u001b[1;33m,\u001b[0m\u001b[1;34m'x'\u001b[0m\u001b[1;33m,\u001b[0m\u001b[1;34m'y'\u001b[0m\u001b[1;33m,\u001b[0m\u001b[1;34m'direction'\u001b[0m\u001b[1;33m]\u001b[0m\u001b[1;33m)\u001b[0m\u001b[1;33m\u001b[0m\u001b[1;33m\u001b[0m\u001b[0m\n\u001b[0m\u001b[0;32m      2\u001b[0m \u001b[0mX_test\u001b[0m \u001b[1;33m=\u001b[0m \u001b[0mX_test\u001b[0m\u001b[1;33m.\u001b[0m\u001b[0mdrop\u001b[0m\u001b[1;33m(\u001b[0m\u001b[0mcolumns\u001b[0m\u001b[1;33m=\u001b[0m\u001b[1;33m[\u001b[0m\u001b[1;34m'time'\u001b[0m\u001b[1;33m,\u001b[0m\u001b[1;34m'x'\u001b[0m\u001b[1;33m,\u001b[0m\u001b[1;34m'y'\u001b[0m\u001b[1;33m,\u001b[0m\u001b[1;34m'direction'\u001b[0m\u001b[1;33m]\u001b[0m\u001b[1;33m)\u001b[0m\u001b[1;33m\u001b[0m\u001b[1;33m\u001b[0m\u001b[0m\n\u001b[0;32m      3\u001b[0m \u001b[0mX_test\u001b[0m\u001b[1;33m.\u001b[0m\u001b[0mhead\u001b[0m\u001b[1;33m(\u001b[0m\u001b[1;33m)\u001b[0m\u001b[1;33m\u001b[0m\u001b[1;33m\u001b[0m\u001b[0m\n",
      "\u001b[1;32m~\\anaconda3\\lib\\site-packages\\pandas\\util\\_decorators.py\u001b[0m in \u001b[0;36mwrapper\u001b[1;34m(*args, **kwargs)\u001b[0m\n\u001b[0;32m    309\u001b[0m                     \u001b[0mstacklevel\u001b[0m\u001b[1;33m=\u001b[0m\u001b[0mstacklevel\u001b[0m\u001b[1;33m,\u001b[0m\u001b[1;33m\u001b[0m\u001b[1;33m\u001b[0m\u001b[0m\n\u001b[0;32m    310\u001b[0m                 )\n\u001b[1;32m--> 311\u001b[1;33m             \u001b[1;32mreturn\u001b[0m \u001b[0mfunc\u001b[0m\u001b[1;33m(\u001b[0m\u001b[1;33m*\u001b[0m\u001b[0margs\u001b[0m\u001b[1;33m,\u001b[0m \u001b[1;33m**\u001b[0m\u001b[0mkwargs\u001b[0m\u001b[1;33m)\u001b[0m\u001b[1;33m\u001b[0m\u001b[1;33m\u001b[0m\u001b[0m\n\u001b[0m\u001b[0;32m    312\u001b[0m \u001b[1;33m\u001b[0m\u001b[0m\n\u001b[0;32m    313\u001b[0m         \u001b[1;32mreturn\u001b[0m \u001b[0mwrapper\u001b[0m\u001b[1;33m\u001b[0m\u001b[1;33m\u001b[0m\u001b[0m\n",
      "\u001b[1;32m~\\anaconda3\\lib\\site-packages\\pandas\\core\\frame.py\u001b[0m in \u001b[0;36mdrop\u001b[1;34m(self, labels, axis, index, columns, level, inplace, errors)\u001b[0m\n\u001b[0;32m   4904\u001b[0m                 \u001b[0mweight\u001b[0m  \u001b[1;36m1.0\u001b[0m     \u001b[1;36m0.8\u001b[0m\u001b[1;33m\u001b[0m\u001b[1;33m\u001b[0m\u001b[0m\n\u001b[0;32m   4905\u001b[0m         \"\"\"\n\u001b[1;32m-> 4906\u001b[1;33m         return super().drop(\n\u001b[0m\u001b[0;32m   4907\u001b[0m             \u001b[0mlabels\u001b[0m\u001b[1;33m=\u001b[0m\u001b[0mlabels\u001b[0m\u001b[1;33m,\u001b[0m\u001b[1;33m\u001b[0m\u001b[1;33m\u001b[0m\u001b[0m\n\u001b[0;32m   4908\u001b[0m             \u001b[0maxis\u001b[0m\u001b[1;33m=\u001b[0m\u001b[0maxis\u001b[0m\u001b[1;33m,\u001b[0m\u001b[1;33m\u001b[0m\u001b[1;33m\u001b[0m\u001b[0m\n",
      "\u001b[1;32m~\\anaconda3\\lib\\site-packages\\pandas\\core\\generic.py\u001b[0m in \u001b[0;36mdrop\u001b[1;34m(self, labels, axis, index, columns, level, inplace, errors)\u001b[0m\n\u001b[0;32m   4148\u001b[0m         \u001b[1;32mfor\u001b[0m \u001b[0maxis\u001b[0m\u001b[1;33m,\u001b[0m \u001b[0mlabels\u001b[0m \u001b[1;32min\u001b[0m \u001b[0maxes\u001b[0m\u001b[1;33m.\u001b[0m\u001b[0mitems\u001b[0m\u001b[1;33m(\u001b[0m\u001b[1;33m)\u001b[0m\u001b[1;33m:\u001b[0m\u001b[1;33m\u001b[0m\u001b[1;33m\u001b[0m\u001b[0m\n\u001b[0;32m   4149\u001b[0m             \u001b[1;32mif\u001b[0m \u001b[0mlabels\u001b[0m \u001b[1;32mis\u001b[0m \u001b[1;32mnot\u001b[0m \u001b[1;32mNone\u001b[0m\u001b[1;33m:\u001b[0m\u001b[1;33m\u001b[0m\u001b[1;33m\u001b[0m\u001b[0m\n\u001b[1;32m-> 4150\u001b[1;33m                 \u001b[0mobj\u001b[0m \u001b[1;33m=\u001b[0m \u001b[0mobj\u001b[0m\u001b[1;33m.\u001b[0m\u001b[0m_drop_axis\u001b[0m\u001b[1;33m(\u001b[0m\u001b[0mlabels\u001b[0m\u001b[1;33m,\u001b[0m \u001b[0maxis\u001b[0m\u001b[1;33m,\u001b[0m \u001b[0mlevel\u001b[0m\u001b[1;33m=\u001b[0m\u001b[0mlevel\u001b[0m\u001b[1;33m,\u001b[0m \u001b[0merrors\u001b[0m\u001b[1;33m=\u001b[0m\u001b[0merrors\u001b[0m\u001b[1;33m)\u001b[0m\u001b[1;33m\u001b[0m\u001b[1;33m\u001b[0m\u001b[0m\n\u001b[0m\u001b[0;32m   4151\u001b[0m \u001b[1;33m\u001b[0m\u001b[0m\n\u001b[0;32m   4152\u001b[0m         \u001b[1;32mif\u001b[0m \u001b[0minplace\u001b[0m\u001b[1;33m:\u001b[0m\u001b[1;33m\u001b[0m\u001b[1;33m\u001b[0m\u001b[0m\n",
      "\u001b[1;32m~\\anaconda3\\lib\\site-packages\\pandas\\core\\generic.py\u001b[0m in \u001b[0;36m_drop_axis\u001b[1;34m(self, labels, axis, level, errors)\u001b[0m\n\u001b[0;32m   4183\u001b[0m                 \u001b[0mnew_axis\u001b[0m \u001b[1;33m=\u001b[0m \u001b[0maxis\u001b[0m\u001b[1;33m.\u001b[0m\u001b[0mdrop\u001b[0m\u001b[1;33m(\u001b[0m\u001b[0mlabels\u001b[0m\u001b[1;33m,\u001b[0m \u001b[0mlevel\u001b[0m\u001b[1;33m=\u001b[0m\u001b[0mlevel\u001b[0m\u001b[1;33m,\u001b[0m \u001b[0merrors\u001b[0m\u001b[1;33m=\u001b[0m\u001b[0merrors\u001b[0m\u001b[1;33m)\u001b[0m\u001b[1;33m\u001b[0m\u001b[1;33m\u001b[0m\u001b[0m\n\u001b[0;32m   4184\u001b[0m             \u001b[1;32melse\u001b[0m\u001b[1;33m:\u001b[0m\u001b[1;33m\u001b[0m\u001b[1;33m\u001b[0m\u001b[0m\n\u001b[1;32m-> 4185\u001b[1;33m                 \u001b[0mnew_axis\u001b[0m \u001b[1;33m=\u001b[0m \u001b[0maxis\u001b[0m\u001b[1;33m.\u001b[0m\u001b[0mdrop\u001b[0m\u001b[1;33m(\u001b[0m\u001b[0mlabels\u001b[0m\u001b[1;33m,\u001b[0m \u001b[0merrors\u001b[0m\u001b[1;33m=\u001b[0m\u001b[0merrors\u001b[0m\u001b[1;33m)\u001b[0m\u001b[1;33m\u001b[0m\u001b[1;33m\u001b[0m\u001b[0m\n\u001b[0m\u001b[0;32m   4186\u001b[0m             \u001b[0mresult\u001b[0m \u001b[1;33m=\u001b[0m \u001b[0mself\u001b[0m\u001b[1;33m.\u001b[0m\u001b[0mreindex\u001b[0m\u001b[1;33m(\u001b[0m\u001b[1;33m**\u001b[0m\u001b[1;33m{\u001b[0m\u001b[0maxis_name\u001b[0m\u001b[1;33m:\u001b[0m \u001b[0mnew_axis\u001b[0m\u001b[1;33m}\u001b[0m\u001b[1;33m)\u001b[0m\u001b[1;33m\u001b[0m\u001b[1;33m\u001b[0m\u001b[0m\n\u001b[0;32m   4187\u001b[0m \u001b[1;33m\u001b[0m\u001b[0m\n",
      "\u001b[1;32m~\\anaconda3\\lib\\site-packages\\pandas\\core\\indexes\\base.py\u001b[0m in \u001b[0;36mdrop\u001b[1;34m(self, labels, errors)\u001b[0m\n\u001b[0;32m   6015\u001b[0m         \u001b[1;32mif\u001b[0m \u001b[0mmask\u001b[0m\u001b[1;33m.\u001b[0m\u001b[0many\u001b[0m\u001b[1;33m(\u001b[0m\u001b[1;33m)\u001b[0m\u001b[1;33m:\u001b[0m\u001b[1;33m\u001b[0m\u001b[1;33m\u001b[0m\u001b[0m\n\u001b[0;32m   6016\u001b[0m             \u001b[1;32mif\u001b[0m \u001b[0merrors\u001b[0m \u001b[1;33m!=\u001b[0m \u001b[1;34m\"ignore\"\u001b[0m\u001b[1;33m:\u001b[0m\u001b[1;33m\u001b[0m\u001b[1;33m\u001b[0m\u001b[0m\n\u001b[1;32m-> 6017\u001b[1;33m                 \u001b[1;32mraise\u001b[0m \u001b[0mKeyError\u001b[0m\u001b[1;33m(\u001b[0m\u001b[1;34mf\"{labels[mask]} not found in axis\"\u001b[0m\u001b[1;33m)\u001b[0m\u001b[1;33m\u001b[0m\u001b[1;33m\u001b[0m\u001b[0m\n\u001b[0m\u001b[0;32m   6018\u001b[0m             \u001b[0mindexer\u001b[0m \u001b[1;33m=\u001b[0m \u001b[0mindexer\u001b[0m\u001b[1;33m[\u001b[0m\u001b[1;33m~\u001b[0m\u001b[0mmask\u001b[0m\u001b[1;33m]\u001b[0m\u001b[1;33m\u001b[0m\u001b[1;33m\u001b[0m\u001b[0m\n\u001b[0;32m   6019\u001b[0m         \u001b[1;32mreturn\u001b[0m \u001b[0mself\u001b[0m\u001b[1;33m.\u001b[0m\u001b[0mdelete\u001b[0m\u001b[1;33m(\u001b[0m\u001b[0mindexer\u001b[0m\u001b[1;33m)\u001b[0m\u001b[1;33m\u001b[0m\u001b[1;33m\u001b[0m\u001b[0m\n",
      "\u001b[1;31mKeyError\u001b[0m: \"['time' 'x' 'y' 'direction'] not found in axis\""
     ]
    }
   ],
   "source": [
    "train = train.drop(columns=['time','x','y','direction'])\n",
    "X_test = X_test.drop(columns=['time','x','y','direction'])"
   ]
  },
  {
   "cell_type": "code",
   "execution_count": 120,
   "id": "27ec84a3-3854-406c-8007-676274db6f4e",
   "metadata": {},
   "outputs": [
    {
     "data": {
      "text/html": [
       "<div>\n",
       "<style scoped>\n",
       "    .dataframe tbody tr th:only-of-type {\n",
       "        vertical-align: middle;\n",
       "    }\n",
       "\n",
       "    .dataframe tbody tr th {\n",
       "        vertical-align: top;\n",
       "    }\n",
       "\n",
       "    .dataframe thead th {\n",
       "        text-align: right;\n",
       "    }\n",
       "</style>\n",
       "<table border=\"1\" class=\"dataframe\">\n",
       "  <thead>\n",
       "    <tr style=\"text-align: right;\">\n",
       "      <th></th>\n",
       "      <th>weekday</th>\n",
       "      <th>hour</th>\n",
       "      <th>minute</th>\n",
       "      <th>road</th>\n",
       "      <th>median</th>\n",
       "      <th>std</th>\n",
       "    </tr>\n",
       "  </thead>\n",
       "  <tbody>\n",
       "    <tr>\n",
       "      <th>0</th>\n",
       "      <td>0</td>\n",
       "      <td>12</td>\n",
       "      <td>0</td>\n",
       "      <td>00EB</td>\n",
       "      <td>47.0</td>\n",
       "      <td>9.240130</td>\n",
       "    </tr>\n",
       "    <tr>\n",
       "      <th>1</th>\n",
       "      <td>0</td>\n",
       "      <td>12</td>\n",
       "      <td>0</td>\n",
       "      <td>00NB</td>\n",
       "      <td>35.0</td>\n",
       "      <td>7.042836</td>\n",
       "    </tr>\n",
       "    <tr>\n",
       "      <th>2</th>\n",
       "      <td>0</td>\n",
       "      <td>12</td>\n",
       "      <td>0</td>\n",
       "      <td>00SB</td>\n",
       "      <td>56.5</td>\n",
       "      <td>10.160633</td>\n",
       "    </tr>\n",
       "    <tr>\n",
       "      <th>3</th>\n",
       "      <td>0</td>\n",
       "      <td>12</td>\n",
       "      <td>0</td>\n",
       "      <td>01EB</td>\n",
       "      <td>22.0</td>\n",
       "      <td>5.012139</td>\n",
       "    </tr>\n",
       "    <tr>\n",
       "      <th>4</th>\n",
       "      <td>0</td>\n",
       "      <td>12</td>\n",
       "      <td>0</td>\n",
       "      <td>01NB</td>\n",
       "      <td>72.0</td>\n",
       "      <td>7.441671</td>\n",
       "    </tr>\n",
       "    <tr>\n",
       "      <th>...</th>\n",
       "      <td>...</td>\n",
       "      <td>...</td>\n",
       "      <td>...</td>\n",
       "      <td>...</td>\n",
       "      <td>...</td>\n",
       "      <td>...</td>\n",
       "    </tr>\n",
       "    <tr>\n",
       "      <th>2335</th>\n",
       "      <td>0</td>\n",
       "      <td>23</td>\n",
       "      <td>40</td>\n",
       "      <td>23NB</td>\n",
       "      <td>68.0</td>\n",
       "      <td>3.314305</td>\n",
       "    </tr>\n",
       "    <tr>\n",
       "      <th>2336</th>\n",
       "      <td>0</td>\n",
       "      <td>23</td>\n",
       "      <td>40</td>\n",
       "      <td>23NE</td>\n",
       "      <td>25.0</td>\n",
       "      <td>15.763688</td>\n",
       "    </tr>\n",
       "    <tr>\n",
       "      <th>2337</th>\n",
       "      <td>0</td>\n",
       "      <td>23</td>\n",
       "      <td>40</td>\n",
       "      <td>23SB</td>\n",
       "      <td>71.0</td>\n",
       "      <td>3.425695</td>\n",
       "    </tr>\n",
       "    <tr>\n",
       "      <th>2338</th>\n",
       "      <td>0</td>\n",
       "      <td>23</td>\n",
       "      <td>40</td>\n",
       "      <td>23SW</td>\n",
       "      <td>11.0</td>\n",
       "      <td>9.282324</td>\n",
       "    </tr>\n",
       "    <tr>\n",
       "      <th>2339</th>\n",
       "      <td>0</td>\n",
       "      <td>23</td>\n",
       "      <td>40</td>\n",
       "      <td>23WB</td>\n",
       "      <td>40.5</td>\n",
       "      <td>10.088302</td>\n",
       "    </tr>\n",
       "  </tbody>\n",
       "</table>\n",
       "<p>2340 rows × 6 columns</p>\n",
       "</div>"
      ],
      "text/plain": [
       "      weekday  hour  minute  road  median        std\n",
       "0           0    12       0  00EB    47.0   9.240130\n",
       "1           0    12       0  00NB    35.0   7.042836\n",
       "2           0    12       0  00SB    56.5  10.160633\n",
       "3           0    12       0  01EB    22.0   5.012139\n",
       "4           0    12       0  01NB    72.0   7.441671\n",
       "...       ...   ...     ...   ...     ...        ...\n",
       "2335        0    23      40  23NB    68.0   3.314305\n",
       "2336        0    23      40  23NE    25.0  15.763688\n",
       "2337        0    23      40  23SB    71.0   3.425695\n",
       "2338        0    23      40  23SW    11.0   9.282324\n",
       "2339        0    23      40  23WB    40.5  10.088302\n",
       "\n",
       "[2340 rows x 6 columns]"
      ]
     },
     "execution_count": 120,
     "metadata": {},
     "output_type": "execute_result"
    }
   ],
   "source": [
    "X_test"
   ]
  },
  {
   "cell_type": "code",
   "execution_count": 118,
   "id": "7646fa30-0691-444b-bd41-41862085e33e",
   "metadata": {},
   "outputs": [
    {
     "data": {
      "text/html": [
       "<div>\n",
       "<style scoped>\n",
       "    .dataframe tbody tr th:only-of-type {\n",
       "        vertical-align: middle;\n",
       "    }\n",
       "\n",
       "    .dataframe tbody tr th {\n",
       "        vertical-align: top;\n",
       "    }\n",
       "\n",
       "    .dataframe thead th {\n",
       "        text-align: right;\n",
       "    }\n",
       "</style>\n",
       "<table border=\"1\" class=\"dataframe\">\n",
       "  <thead>\n",
       "    <tr style=\"text-align: right;\">\n",
       "      <th></th>\n",
       "      <th>congestion</th>\n",
       "      <th>weekday</th>\n",
       "      <th>hour</th>\n",
       "      <th>minute</th>\n",
       "      <th>road</th>\n",
       "      <th>median</th>\n",
       "      <th>std</th>\n",
       "    </tr>\n",
       "  </thead>\n",
       "  <tbody>\n",
       "    <tr>\n",
       "      <th>0</th>\n",
       "      <td>70</td>\n",
       "      <td>0</td>\n",
       "      <td>0</td>\n",
       "      <td>0</td>\n",
       "      <td>00EB</td>\n",
       "      <td>35.0</td>\n",
       "      <td>11.988242</td>\n",
       "    </tr>\n",
       "    <tr>\n",
       "      <th>1</th>\n",
       "      <td>49</td>\n",
       "      <td>0</td>\n",
       "      <td>0</td>\n",
       "      <td>0</td>\n",
       "      <td>00NB</td>\n",
       "      <td>29.0</td>\n",
       "      <td>11.660560</td>\n",
       "    </tr>\n",
       "    <tr>\n",
       "      <th>2</th>\n",
       "      <td>24</td>\n",
       "      <td>0</td>\n",
       "      <td>0</td>\n",
       "      <td>0</td>\n",
       "      <td>00SB</td>\n",
       "      <td>24.0</td>\n",
       "      <td>23.050916</td>\n",
       "    </tr>\n",
       "    <tr>\n",
       "      <th>3</th>\n",
       "      <td>18</td>\n",
       "      <td>0</td>\n",
       "      <td>0</td>\n",
       "      <td>0</td>\n",
       "      <td>01EB</td>\n",
       "      <td>17.0</td>\n",
       "      <td>5.932911</td>\n",
       "    </tr>\n",
       "    <tr>\n",
       "      <th>4</th>\n",
       "      <td>60</td>\n",
       "      <td>0</td>\n",
       "      <td>0</td>\n",
       "      <td>0</td>\n",
       "      <td>01NB</td>\n",
       "      <td>63.0</td>\n",
       "      <td>4.799691</td>\n",
       "    </tr>\n",
       "    <tr>\n",
       "      <th>...</th>\n",
       "      <td>...</td>\n",
       "      <td>...</td>\n",
       "      <td>...</td>\n",
       "      <td>...</td>\n",
       "      <td>...</td>\n",
       "      <td>...</td>\n",
       "      <td>...</td>\n",
       "    </tr>\n",
       "    <tr>\n",
       "      <th>848830</th>\n",
       "      <td>54</td>\n",
       "      <td>0</td>\n",
       "      <td>11</td>\n",
       "      <td>40</td>\n",
       "      <td>23NB</td>\n",
       "      <td>58.0</td>\n",
       "      <td>2.886751</td>\n",
       "    </tr>\n",
       "    <tr>\n",
       "      <th>848831</th>\n",
       "      <td>28</td>\n",
       "      <td>0</td>\n",
       "      <td>11</td>\n",
       "      <td>40</td>\n",
       "      <td>23NE</td>\n",
       "      <td>26.0</td>\n",
       "      <td>2.275849</td>\n",
       "    </tr>\n",
       "    <tr>\n",
       "      <th>848832</th>\n",
       "      <td>68</td>\n",
       "      <td>0</td>\n",
       "      <td>11</td>\n",
       "      <td>40</td>\n",
       "      <td>23SB</td>\n",
       "      <td>71.0</td>\n",
       "      <td>4.830459</td>\n",
       "    </tr>\n",
       "    <tr>\n",
       "      <th>848833</th>\n",
       "      <td>17</td>\n",
       "      <td>0</td>\n",
       "      <td>11</td>\n",
       "      <td>40</td>\n",
       "      <td>23SW</td>\n",
       "      <td>20.0</td>\n",
       "      <td>10.611368</td>\n",
       "    </tr>\n",
       "    <tr>\n",
       "      <th>848834</th>\n",
       "      <td>24</td>\n",
       "      <td>0</td>\n",
       "      <td>11</td>\n",
       "      <td>40</td>\n",
       "      <td>23WB</td>\n",
       "      <td>37.0</td>\n",
       "      <td>9.446807</td>\n",
       "    </tr>\n",
       "  </tbody>\n",
       "</table>\n",
       "<p>848835 rows × 7 columns</p>\n",
       "</div>"
      ],
      "text/plain": [
       "        congestion  weekday  hour  minute  road  median        std\n",
       "0               70        0     0       0  00EB    35.0  11.988242\n",
       "1               49        0     0       0  00NB    29.0  11.660560\n",
       "2               24        0     0       0  00SB    24.0  23.050916\n",
       "3               18        0     0       0  01EB    17.0   5.932911\n",
       "4               60        0     0       0  01NB    63.0   4.799691\n",
       "...            ...      ...   ...     ...   ...     ...        ...\n",
       "848830          54        0    11      40  23NB    58.0   2.886751\n",
       "848831          28        0    11      40  23NE    26.0   2.275849\n",
       "848832          68        0    11      40  23SB    71.0   4.830459\n",
       "848833          17        0    11      40  23SW    20.0  10.611368\n",
       "848834          24        0    11      40  23WB    37.0   9.446807\n",
       "\n",
       "[848835 rows x 7 columns]"
      ]
     },
     "execution_count": 118,
     "metadata": {},
     "output_type": "execute_result"
    }
   ],
   "source": [
    "train"
   ]
  },
  {
   "cell_type": "code",
   "execution_count": 121,
   "id": "6ca7355e-5d42-44b4-84f7-8d7805cfda95",
   "metadata": {},
   "outputs": [],
   "source": [
    "X = train.drop(columns=['congestion'])\n",
    "y = train['congestion']\n",
    "X = pd.get_dummies(X)\n",
    "X_test = pd.get_dummies(X_test)"
   ]
  },
  {
   "cell_type": "markdown",
   "id": "6bf1a90f-ced1-4766-84c4-79bd4b7eb0c7",
   "metadata": {
    "tags": []
   },
   "source": [
    "## <span style='color:#ffd700'> Modelado </span>\n"
   ]
  },
  {
   "cell_type": "code",
   "execution_count": 122,
   "id": "aef81105-008f-4138-80a2-ddeaca266c30",
   "metadata": {},
   "outputs": [],
   "source": [
    "from sklearn.model_selection import train_test_split\n",
    "\n",
    "X_train, X_val, y_train, y_val = train_test_split(X,y)"
   ]
  },
  {
   "cell_type": "code",
   "execution_count": 123,
   "id": "cb75c519-83c9-43f4-ad2b-8c60ba38e724",
   "metadata": {},
   "outputs": [],
   "source": [
    "model = xgboost.XGBRegressor()"
   ]
  },
  {
   "cell_type": "code",
   "execution_count": 124,
   "id": "03a8c1ce-134c-4e05-adef-321507d449dc",
   "metadata": {},
   "outputs": [
    {
     "data": {
      "text/plain": [
       "XGBRegressor(base_score=0.5, booster='gbtree', colsample_bylevel=1,\n",
       "             colsample_bynode=1, colsample_bytree=1, enable_categorical=False,\n",
       "             gamma=0, gpu_id=-1, importance_type=None,\n",
       "             interaction_constraints='', learning_rate=0.300000012,\n",
       "             max_delta_step=0, max_depth=6, min_child_weight=1, missing=nan,\n",
       "             monotone_constraints='()', n_estimators=100, n_jobs=8,\n",
       "             num_parallel_tree=1, predictor='auto', random_state=0, reg_alpha=0,\n",
       "             reg_lambda=1, scale_pos_weight=1, subsample=1, tree_method='exact',\n",
       "             validate_parameters=1, verbosity=None)"
      ]
     },
     "execution_count": 124,
     "metadata": {},
     "output_type": "execute_result"
    }
   ],
   "source": [
    "model.fit(X_train,y_train)"
   ]
  },
  {
   "cell_type": "code",
   "execution_count": 125,
   "id": "8dbd1107-0acd-47fb-a798-cba2454fb199",
   "metadata": {},
   "outputs": [
    {
     "data": {
      "text/plain": [
       "6.074006657328761"
      ]
     },
     "execution_count": 125,
     "metadata": {},
     "output_type": "execute_result"
    }
   ],
   "source": [
    "from sklearn.metrics import mean_absolute_error\n",
    "pred_val = model.predict(X_val)\n",
    "mean_absolute_error(y_val,pred_val)"
   ]
  },
  {
   "cell_type": "markdown",
   "id": "89be5612-b77a-4173-bf74-08ec794bcc8c",
   "metadata": {},
   "source": [
    "## <span style='color:#ffd700'> Comprobación de importancia de columnas </span>"
   ]
  },
  {
   "cell_type": "code",
   "execution_count": 126,
   "id": "d93786b1-9095-4a55-8671-c117de2ba714",
   "metadata": {},
   "outputs": [
    {
     "data": {
      "text/plain": [
       "median       0.849328\n",
       "road_22SW    0.020694\n",
       "road_23NE    0.009222\n",
       "road_00SB    0.005270\n",
       "road_21SE    0.005073\n",
       "               ...   \n",
       "road_23SB    0.000488\n",
       "road_03NB    0.000460\n",
       "road_22WB    0.000395\n",
       "road_21WB    0.000391\n",
       "road_01SB    0.000130\n",
       "Length: 70, dtype: float32"
      ]
     },
     "execution_count": 126,
     "metadata": {},
     "output_type": "execute_result"
    }
   ],
   "source": [
    "imp_feature = pd.Series(model.feature_importances_, index=X.columns).sort_values(ascending=False)\n",
    "imp_feature"
   ]
  },
  {
   "cell_type": "code",
   "execution_count": 127,
   "id": "60095531-b9b6-4892-93c5-02929275f796",
   "metadata": {},
   "outputs": [
    {
     "data": {
      "text/plain": [
       "(0.0006454694, 0.0010558421, 0.0031854468)"
      ]
     },
     "execution_count": 127,
     "metadata": {},
     "output_type": "execute_result"
    }
   ],
   "source": [
    "imp_feature.loc['weekday'], imp_feature.loc['hour'], imp_feature.loc['std']"
   ]
  },
  {
   "cell_type": "markdown",
   "id": "9bd6bd6a-f9a6-46ce-ad39-c3c26a5b265c",
   "metadata": {},
   "source": [
    "La mediana practicamente está definiciendo el la predición entero. Para mejorar, podría ver como dividir más los datos de tiempo. \n",
    "Se me ocurren:\n",
    "- El train dataset incluye la época de vacaciones de verano en el hemisferio norte\n",
    "- Horarios de tráfico laboral en días de semana\n",
    "- cantidad de mediciones por hora en ese camino\n",
    "- Feriados de USA, grandes eventos en USA\n"
   ]
  },
  {
   "cell_type": "markdown",
   "id": "ab0776f0-6bfe-428d-902a-e5ed02448b89",
   "metadata": {},
   "source": [
    "## <span style='color:#ffd700'> Predicción del test con el modelo elegido </span>"
   ]
  },
  {
   "cell_type": "markdown",
   "id": "ca2513a2-3096-4971-ac7f-4a99f8a2ec40",
   "metadata": {},
   "source": [
    "Primero fitteo nuevamente con el modelo completo del train dataset"
   ]
  },
  {
   "cell_type": "code",
   "execution_count": 128,
   "id": "6ac0612a-ffeb-4f4f-8207-e69c9362425b",
   "metadata": {},
   "outputs": [
    {
     "data": {
      "text/plain": [
       "XGBRegressor(base_score=0.5, booster='gbtree', colsample_bylevel=1,\n",
       "             colsample_bynode=1, colsample_bytree=1, enable_categorical=False,\n",
       "             gamma=0, gpu_id=-1, importance_type=None,\n",
       "             interaction_constraints='', learning_rate=0.300000012,\n",
       "             max_delta_step=0, max_depth=6, min_child_weight=1, missing=nan,\n",
       "             monotone_constraints='()', n_estimators=100, n_jobs=8,\n",
       "             num_parallel_tree=1, predictor='auto', random_state=0, reg_alpha=0,\n",
       "             reg_lambda=1, scale_pos_weight=1, subsample=1, tree_method='exact',\n",
       "             validate_parameters=1, verbosity=None)"
      ]
     },
     "execution_count": 128,
     "metadata": {},
     "output_type": "execute_result"
    }
   ],
   "source": [
    "model.fit(X,y)"
   ]
  },
  {
   "cell_type": "code",
   "execution_count": 129,
   "id": "4eeec615-b70d-4456-8f74-cc5b04524f8f",
   "metadata": {
    "tags": []
   },
   "outputs": [],
   "source": [
    "# Habilitar cuando se tenga el modelo entrenado\n",
    "pred_test = model.predict(X_test)"
   ]
  },
  {
   "cell_type": "code",
   "execution_count": 130,
   "id": "7ca71b7b-dc48-4f42-815e-2ed7f76027ab",
   "metadata": {},
   "outputs": [
    {
     "data": {
      "text/plain": [
       "array([47.672962, 35.216606, 55.73682 , ..., 70.962364, 16.566076,\n",
       "       40.600956], dtype=float32)"
      ]
     },
     "execution_count": 130,
     "metadata": {},
     "output_type": "execute_result"
    }
   ],
   "source": [
    "pred_test"
   ]
  },
  {
   "cell_type": "code",
   "execution_count": 131,
   "id": "112e2d26-9cc9-45ee-80c8-035ec87d0129",
   "metadata": {},
   "outputs": [
    {
     "name": "stdout",
     "output_type": "stream",
     "text": [
      "Your submission was successfully saved!\n"
     ]
    }
   ],
   "source": [
    "output = pd.DataFrame({'row_id': test.index, 'congestion': pred_test})\n",
    "output.to_csv('datasets/2022_03/submission.csv', index=False)\n",
    "print(\"Your submission was successfully saved!\")"
   ]
  },
  {
   "cell_type": "code",
   "execution_count": 132,
   "id": "a610310e-084c-45ff-bc17-eddbd3808ea8",
   "metadata": {},
   "outputs": [
    {
     "name": "stdout",
     "output_type": "stream",
     "text": [
      "Successfully submitted to Tabular Playground Series - Mar 2022\n"
     ]
    },
    {
     "name": "stderr",
     "output_type": "stream",
     "text": [
      "\n",
      "  0%|          | 0.00/40.0k [00:00<?, ?B/s]\n",
      " 20%|#9        | 8.00k/40.0k [00:00<00:00, 39.7kB/s]\n",
      "100%|##########| 40.0k/40.0k [00:02<00:00, 18.8kB/s]\n"
     ]
    }
   ],
   "source": [
    "!kaggle competitions submit -c tabular-playground-series-mar-2022 -f datasets/2022_03/submission.csv -m \"2- XGRegressor agregando el 'camino', la mediana de congestión y el desvío estándar\""
   ]
  },
  {
   "cell_type": "code",
   "execution_count": null,
   "id": "c9853134-7281-491b-8b9e-d8dcdebedf36",
   "metadata": {},
   "outputs": [],
   "source": []
  }
 ],
 "metadata": {
  "kernelspec": {
   "display_name": "Python 3 (ipykernel)",
   "language": "python",
   "name": "python3"
  },
  "language_info": {
   "codemirror_mode": {
    "name": "ipython",
    "version": 3
   },
   "file_extension": ".py",
   "mimetype": "text/x-python",
   "name": "python",
   "nbconvert_exporter": "python",
   "pygments_lexer": "ipython3",
   "version": "3.9.7"
  }
 },
 "nbformat": 4,
 "nbformat_minor": 5
}
